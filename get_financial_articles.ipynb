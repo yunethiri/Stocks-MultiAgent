{
 "cells": [
  {
   "cell_type": "code",
   "execution_count": 1,
   "id": "435b98f3",
   "metadata": {},
   "outputs": [
    {
     "name": "stdout",
     "output_type": "stream",
     "text": [
      "Fetching articles from www.reuters.com...\n",
      "Fetching articles from www.yahoo.com...\n",
      "Saved 461 articles to /Users/janalee/Desktop/Untitled Folder/articles.csv\n"
     ]
    }
   ],
   "source": [
    "import requests\n",
    "import pandas as pd\n",
    "import os\n",
    "\n",
    "def get_articles_from_source(source):\n",
    "    all_articles = []\n",
    "    page = 1  \n",
    "    limit = 50  \n",
    "\n",
    "    while True:\n",
    "        url = f'https://api.finlight.me/v1/articles/extended?query=apple&source={source}&from=2024-01-01&to=2025-01-01&limit={limit}&page={page}'\n",
    "        headers = {\n",
    "            'accept': 'application/json',\n",
    "            'X-API-KEY': 'sk_dd2756918a52c67962c18f8b2f5172471cde550628d238ef2e42bc7d1ab91e88',\n",
    "        }\n",
    "\n",
    "        response = requests.get(url, headers=headers)\n",
    "        if response.status_code != 200:\n",
    "            print(f\"Error fetching articles from {source}: {response.status_code}\")\n",
    "            break\n",
    "\n",
    "        data = response.json()\n",
    "\n",
    "        if isinstance(data, dict) and 'articles' in data:\n",
    "            articles = data['articles']\n",
    "            if not articles:\n",
    "                break  \n",
    "            all_articles.extend(articles)\n",
    "        else:\n",
    "            break\n",
    "\n",
    "        page += 1  \n",
    "\n",
    "    return all_articles\n",
    "\n",
    "def get_financial_articles():\n",
    "    sources = [\"www.reuters.com\", \"www.yahoo.com\"]\n",
    "    all_articles = []\n",
    "\n",
    "    for source in sources:\n",
    "        print(f\"Fetching articles from {source}...\")\n",
    "        articles = get_articles_from_source(source)\n",
    "        all_articles.extend(articles)\n",
    "\n",
    "    df = pd.DataFrame(all_articles)\n",
    "\n",
    "    # Save CSV in the same folder as the Python notebook\n",
    "    output_path = os.path.join(os.getcwd(), \"articles.csv\")\n",
    "    df.to_csv(output_path, index=False)  \n",
    "    print(f\"Saved {len(df)} articles to {output_path}\")\n",
    "    return df\n",
    "\n",
    "df = get_financial_articles()\n"
   ]
  },
  {
   "cell_type": "code",
   "execution_count": null,
   "id": "c60accbf",
   "metadata": {},
   "outputs": [],
   "source": []
  }
 ],
 "metadata": {
  "kernelspec": {
   "display_name": "Python 3 (ipykernel)",
   "language": "python",
   "name": "python3"
  },
  "language_info": {
   "codemirror_mode": {
    "name": "ipython",
    "version": 3
   },
   "file_extension": ".py",
   "mimetype": "text/x-python",
   "name": "python",
   "nbconvert_exporter": "python",
   "pygments_lexer": "ipython3",
   "version": "3.11.3"
  }
 },
 "nbformat": 4,
 "nbformat_minor": 5
}
