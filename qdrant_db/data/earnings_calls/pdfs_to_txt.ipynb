{
 "cells": [
  {
   "cell_type": "code",
   "execution_count": 5,
   "metadata": {},
   "outputs": [],
   "source": [
    "import os\n",
    "import fitz  # PyMuPDF for reading PDFs\n",
    "\n",
    "# Function to convert PDF to text and save as .txt files\n",
    "def convert_pdfs_to_text(pdf_folder, text_folder):\n",
    "    # Create the folder for text files if it doesn't exist\n",
    "    if not os.path.exists(text_folder):\n",
    "        os.makedirs(text_folder)\n",
    "\n",
    "    # Loop through all the PDF files in the folder\n",
    "    for file_name in os.listdir(pdf_folder):\n",
    "        if file_name.endswith(\".pdf\"):\n",
    "            file_path = os.path.join(pdf_folder, file_name)\n",
    "            text_file_name = os.path.splitext(file_name)[0] + \".txt\"\n",
    "            text_file_path = os.path.join(text_folder, text_file_name)\n",
    "\n",
    "            # Open PDF and extract text\n",
    "            with fitz.open(file_path) as doc:\n",
    "                text = \"\"\n",
    "                for page in doc:\n",
    "                    text += page.get_text()\n",
    "\n",
    "            # Save the extracted text to a .txt file\n",
    "            with open(text_file_path, \"w\", encoding=\"utf-8\") as text_file:\n",
    "                text_file.write(text)\n",
    "            print(f\"Converted {file_name} to {text_file_name}\")"
   ]
  },
  {
   "cell_type": "code",
   "execution_count": 6,
   "metadata": {},
   "outputs": [
    {
     "name": "stdout",
     "output_type": "stream",
     "text": [
      "Converted Apple_Inc_AAPL_Q1_2024_Earnings_Call_Transcript_Seeking_Alpha.pdf to Apple_Inc_AAPL_Q1_2024_Earnings_Call_Transcript_Seeking_Alpha.txt\n",
      "Converted Apple_Inc_AAPL_Q2_2024_Earnings_Call_Transcript_Seeking_Alpha.pdf to Apple_Inc_AAPL_Q2_2024_Earnings_Call_Transcript_Seeking_Alpha.txt\n",
      "Converted Apple_Inc_AAPL_Q3_2024_Earnings_Call_Transcript_Seeking_Alpha.pdf to Apple_Inc_AAPL_Q3_2024_Earnings_Call_Transcript_Seeking_Alpha.txt\n",
      "Converted Apple Inc. (AAPL) Q1 2025 Earnings Call Transcript _ Seeking Alpha.pdf to Apple Inc. (AAPL) Q1 2025 Earnings Call Transcript _ Seeking Alpha.txt\n",
      "Converted Apple Inc. (AAPL) Q4 2024 Earnings Call Transcript _ Seeking Alpha.pdf to Apple Inc. (AAPL) Q4 2024 Earnings Call Transcript _ Seeking Alpha.txt\n"
     ]
    }
   ],
   "source": [
    "# convert pdf to txt\n",
    "\n",
    "pdf_folder_name = \"earnings_calls_pdf\"\n",
    "txt_folder_name = \"earnings_calls_txt\"\n",
    "\n",
    "convert_pdfs_to_text(pdf_folder_name, txt_folder_name)"
   ]
  }
 ],
 "metadata": {
  "kernelspec": {
   "display_name": "DSA4265",
   "language": "python",
   "name": "python3"
  },
  "language_info": {
   "codemirror_mode": {
    "name": "ipython",
    "version": 3
   },
   "file_extension": ".py",
   "mimetype": "text/x-python",
   "name": "python",
   "nbconvert_exporter": "python",
   "pygments_lexer": "ipython3",
   "version": "3.10.16"
  }
 },
 "nbformat": 4,
 "nbformat_minor": 2
}
