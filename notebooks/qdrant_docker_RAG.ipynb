{
 "cells": [
  {
   "cell_type": "code",
   "execution_count": 1,
   "metadata": {},
   "outputs": [
    {
     "name": "stderr",
     "output_type": "stream",
     "text": [
      "[nltk_data] Downloading package punkt to\n",
      "[nltk_data]     /Users/yunethirikhin/nltk_data...\n",
      "[nltk_data]   Package punkt is already up-to-date!\n"
     ]
    }
   ],
   "source": [
    "from qdrant_client import QdrantClient\n",
    "from qdrant_client.models import Distance, VectorParams, PointStruct\n",
    "import cohere\n",
    "from dotenv import load_dotenv\n",
    "import os\n",
    "import nltk\n",
    "nltk.download('punkt')  # Download the tokenizer models\n",
    "\n",
    "from nltk.tokenize import word_tokenize\n",
    "import os\n",
    "import openai\n",
    "from openai import OpenAI\n",
    "from dotenv import load_dotenv\n"
   ]
  },
  {
   "cell_type": "code",
   "execution_count": 2,
   "metadata": {},
   "outputs": [
    {
     "data": {
      "text/plain": [
       "True"
      ]
     },
     "execution_count": 2,
     "metadata": {},
     "output_type": "execute_result"
    }
   ],
   "source": [
    "\n",
    "# Load environment variables from .env file\n",
    "load_dotenv()\n",
    "\n",
    "# Retrieve the API key from the environment\n",
    "COHERE_API_KEY = os.getenv(\"COHERE_API_KEY\")\n",
    "load_dotenv()\n",
    "\n",
    "# Retrieve the API key from the environment\n",
    "#OPENAI_API_KEY = os.getenv(\"OPENAI_API_KEY\")\n",
    "\n",
    "\n",
    "#client_gpt = OpenAI(\n",
    "#  api_key=OPENAI_API_KEY,  # this is also the default, it can be omitted\n",
    "#)"
   ]
  },
  {
   "cell_type": "code",
   "execution_count": 3,
   "metadata": {},
   "outputs": [
    {
     "data": {
      "text/plain": [
       "CollectionsResponse(collections=[CollectionDescription(name='aapl_10k_10q_forms'), CollectionDescription(name='earnings_calls'), CollectionDescription(name='financial_news')])"
      ]
     },
     "execution_count": 3,
     "metadata": {},
     "output_type": "execute_result"
    }
   ],
   "source": [
    "co = cohere.ClientV2(COHERE_API_KEY)\n",
    "client = QdrantClient(url=\"http://localhost:6333\")\n",
    "client.get_collections()"
   ]
  },
  {
   "cell_type": "code",
   "execution_count": 4,
   "metadata": {},
   "outputs": [
    {
     "name": "stdout",
     "output_type": "stream",
     "text": [
      "Collection info for earnings_calls:\n",
      "status=<CollectionStatus.GREEN: 'green'> optimizer_status=<OptimizersStatusOneOf.OK: 'ok'> vectors_count=None indexed_vectors_count=0 points_count=48 segments_count=4 config=CollectionConfig(params=CollectionParams(vectors=VectorParams(size=1024, distance=<Distance.COSINE: 'Cosine'>, hnsw_config=None, quantization_config=None, on_disk=None, datatype=None, multivector_config=None), shard_number=1, sharding_method=None, replication_factor=1, write_consistency_factor=1, read_fan_out_factor=None, on_disk_payload=True, sparse_vectors=None), hnsw_config=HnswConfig(m=16, ef_construct=100, full_scan_threshold=10000, max_indexing_threads=0, on_disk=False, payload_m=None), optimizer_config=OptimizersConfig(deleted_threshold=0.2, vacuum_min_vector_number=1000, default_segment_number=0, max_segment_size=None, memmap_threshold=None, indexing_threshold=20000, flush_interval_sec=5, max_optimization_threads=None), wal_config=WalConfig(wal_capacity_mb=32, wal_segments_ahead=0), quantization_config=None, strict_mode_config=StrictModeConfig(enabled=False, max_query_limit=None, max_timeout=None, unindexed_filtering_retrieve=None, unindexed_filtering_update=None, search_max_hnsw_ef=None, search_allow_exact=None, search_max_oversampling=None, upsert_max_batchsize=None, max_collection_vector_size_bytes=None, read_rate_limit=None, write_rate_limit=None, max_collection_payload_size_bytes=None, filter_max_conditions=None, condition_max_size=None)) payload_schema={}\n"
     ]
    }
   ],
   "source": [
    "collection_name = \"earnings_calls\"\n",
    "collection_info = client.get_collection(collection_name)\n",
    "\n",
    "print(f\"Collection info for {collection_name}:\")\n",
    "print(collection_info)"
   ]
  },
  {
   "cell_type": "code",
   "execution_count": 4,
   "metadata": {},
   "outputs": [
    {
     "data": {
      "text/plain": [
       "True"
      ]
     },
     "execution_count": 4,
     "metadata": {},
     "output_type": "execute_result"
    }
   ],
   "source": [
    "client.create_collection(\n",
    "    collection_name=\"summarizer_test3\",\n",
    "    vectors_config=VectorParams(size=1024, distance=Distance.DOT),\n",
    ")"
   ]
  },
  {
   "cell_type": "code",
   "execution_count": null,
   "metadata": {},
   "outputs": [],
   "source": [
    "file_path = '/home/sarahgohrazer/Projects/Stocks-MultiAgent/aapl_10k_forms/apple_filings_text/000032019324000123-aapl-20240928.txt' \n",
    "with open(file_path, 'r') as file:\n",
    "    text = file.read()\n",
    "\n",
    "# Divide the text into chunks\n",
    "chunk_size = 3000  # Adjust this size as needed\n",
    "chunks = [text[i:i+chunk_size] for i in range(0, len(text), chunk_size)]"
   ]
  },
  {
   "cell_type": "code",
   "execution_count": 47,
   "metadata": {},
   "outputs": [
    {
     "ename": "NameError",
     "evalue": "name 'chunks' is not defined",
     "output_type": "error",
     "traceback": [
      "\u001b[0;31m---------------------------------------------------------------------------\u001b[0m",
      "\u001b[0;31mNameError\u001b[0m                                 Traceback (most recent call last)",
      "Cell \u001b[0;32mIn[47], line 3\u001b[0m\n\u001b[1;32m      1\u001b[0m model\u001b[38;5;241m=\u001b[39m\u001b[38;5;124m\"\u001b[39m\u001b[38;5;124membed-english-v3.0\u001b[39m\u001b[38;5;124m\"\u001b[39m\n\u001b[0;32m----> 3\u001b[0m doc_embeddings \u001b[38;5;241m=\u001b[39m co\u001b[38;5;241m.\u001b[39membed(texts\u001b[38;5;241m=\u001b[39m\u001b[43mchunks\u001b[49m,\n\u001b[1;32m      4\u001b[0m                           model\u001b[38;5;241m=\u001b[39mmodel,\n\u001b[1;32m      5\u001b[0m                           input_type\u001b[38;5;241m=\u001b[39m\u001b[38;5;124m\"\u001b[39m\u001b[38;5;124msearch_document\u001b[39m\u001b[38;5;124m\"\u001b[39m,\n\u001b[1;32m      6\u001b[0m                           embedding_types\u001b[38;5;241m=\u001b[39m[\u001b[38;5;124m'\u001b[39m\u001b[38;5;124mfloat\u001b[39m\u001b[38;5;124m'\u001b[39m])\n",
      "\u001b[0;31mNameError\u001b[0m: name 'chunks' is not defined"
     ]
    }
   ],
   "source": [
    "model=\"embed-english-v3.0\"\n",
    "\n",
    "doc_embeddings = co.embed(texts=chunks,\n",
    "                          model=model,\n",
    "                          input_type=\"search_document\",\n",
    "                          embedding_types=['float'])"
   ]
  },
  {
   "cell_type": "code",
   "execution_count": 5,
   "metadata": {},
   "outputs": [],
   "source": [
    "query =\"\"\"\n",
    "WHat \n",
    "\"\"\""
   ]
  },
  {
   "cell_type": "code",
   "execution_count": 22,
   "metadata": {},
   "outputs": [],
   "source": [
    "points = []\n",
    "for idx, (embedding, doc) in enumerate(zip(doc_embeddings.embeddings.float_, chunks)):\n",
    "    point = PointStruct(\n",
    "        id=idx,\n",
    "        vector=embedding,\n",
    "        payload={\"document\": doc}\n",
    "    )\n",
    "    points.append(point)"
   ]
  },
  {
   "cell_type": "code",
   "execution_count": 11,
   "metadata": {},
   "outputs": [],
   "source": [
    "operation_info = client.upsert(\n",
    "    collection_name=\"summarizer_test3\",\n",
    "    points=points\n",
    ")"
   ]
  },
  {
   "cell_type": "code",
   "execution_count": 6,
   "metadata": {},
   "outputs": [],
   "source": [
    "model=\"embed-english-v3.0\"\n",
    "\n",
    "query_embeddings = co.embed(texts=[query],\n",
    "                          model=model,\n",
    "                          input_type=\"search_query\",\n",
    "                          embedding_types=['float'])"
   ]
  },
  {
   "cell_type": "code",
   "execution_count": 17,
   "metadata": {},
   "outputs": [],
   "source": [
    "search_result = client.query_points(\n",
    "    collection_name=\"financial_news\", query=query_embeddings.embeddings.float_[0], limit=10\n",
    ").points"
   ]
  },
  {
   "cell_type": "code",
   "execution_count": 19,
   "metadata": {},
   "outputs": [
    {
     "name": "stdout",
     "output_type": "stream",
     "text": [
      "dict_keys(['document', 'file_name', 'chunk_index', 'title', 'source', 'summary', 'publish_date', 'url', 'sentiment', 'confidence'])\n",
      "neutral\n",
      "ID: 4527387593854241285, Document: The \"Magnificent Seven\" — made up of Nvidia (NVDA), Alphabet (GOOG, GOOGL), Tesla (TSLA), Microsoft (MSFT), Amazon (AMZN), Meta Platforms (META), and Apple (AAPL) — drove major indexes (^DJI, ^IXIC, ^GSPC) higher in 2024. Niles Investment Management founder and portfolio manager Dan Niles joins Market Domination Co-Hosts Julie Hyman and Josh Lipton to discuss how to play the megacap tech group in the new year., Score: 0.36994368\n",
      "dict_keys(['document', 'file_name', 'chunk_index', 'title', 'source', 'summary', 'publish_date', 'url', 'sentiment', 'confidence'])\n",
      "positive\n",
      "ID: 3972119060730086807, Document: There's arguably not a billionaire money manager that garners more attention on Wall Street than Berkshire Hathaway's (NYSE: BRK.A)(NYSE: BRK.B) chief, Warren Buffett. The accurately dubbed \"Oracle of Omaha\" has led his company's Class A shares (BRK.A) to a mouthwatering aggregate return of more than 5,600,000% since he became CEO almost six decades ago., Score: 0.36315376\n",
      "dict_keys(['document', 'file_name', 'chunk_index', 'title', 'source', 'summary', 'publish_date', 'url', 'sentiment', 'confidence'])\n",
      "neutral\n",
      "ID: 5153964856475604424, Document: Apple (NASDAQ: AAPL) has moved back into the top spot as the largest company in the world by market cap. It's gone through some stunning ups and downs, but if you'd bought shares at the initial public offering (IPO) back in 1980 and held on, you'd have a lot more shares, and a lot of money. Let's see just how much., Score: 0.36003345\n",
      "dict_keys(['document', 'file_name', 'chunk_index', 'title', 'source', 'summary', 'publish_date', 'url', 'sentiment', 'confidence'])\n",
      "positive\n",
      "ID: 5903831355090164306, Document: There isn't a money manager who commands more attention from the investment community than billionaire Warren Buffett. In his nearly six decades as CEO of Berkshire Hathaway (NYSE: BRK.A)(NYSE: BRK.B), the aptly dubbed \"Oracle of Omaha\" has overseen a cumulative return in his company's Class A shares (BRK.A) of greater than 5,660,000%, as of the closing bell on Nov. 14., Score: 0.35795718\n",
      "dict_keys(['document', 'file_name', 'chunk_index', 'title', 'source', 'summary', 'publish_date', 'url', 'sentiment', 'confidence'])\n",
      "negative\n",
      "ID: 2345588952133746343, Document: This has turned out to be a forgettable year for Qorvo (NASDAQ: QRVO) investors as shares of the chipmaker are down 38% as of this writing, which is in stark contrast to the 23% gains clocked by the PHLX Semiconductor Sector index in 2024., Score: 0.3572759\n",
      "dict_keys(['document', 'file_name', 'chunk_index', 'title', 'source', 'summary', 'publish_date', 'url', 'sentiment', 'confidence'])\n",
      "positive\n",
      "ID: 179816802879347489, Document: For the better part of six decades, Berkshire Hathaway (NYSE: BRK.A)(NYSE: BRK.B) CEO Warren Buffett has been putting on a masterclass in investing for Wall Street. Since ascending to the role as CEO in the mid-1960s, he's overseen a cumulative return in his company's Class A shares (BRK.A) of 5,561,176%, as of the closing bell on Dec. 12, and nearly doubled up the average annual total return, including dividends, of the benchmark S&P 500., Score: 0.35552213\n",
      "dict_keys(['document', 'file_name', 'chunk_index', 'title', 'source', 'summary', 'publish_date', 'url', 'sentiment', 'confidence'])\n",
      "neutral\n",
      "ID: 4850061362140188295, Document: We recently compiled a list of the 35 Trending AI Stocks on Latest News and Analyst Ratings. In this article, we are going to take a look at where Apple Inc. (NASDAQ:AAPL) stands against the other trending AI stocks., Score: 0.35047653\n",
      "dict_keys(['document', 'file_name', 'chunk_index', 'title', 'source', 'summary', 'publish_date', 'url', 'sentiment', 'confidence'])\n",
      "positive\n",
      "ID: 4051893326774226923, Document: Broadcom stock (AVGO) soared more than 20% Friday as the chipmaker touted its “massive” opportunity in the artificial intelligence market during a quarterly earnings call the prior evening., Score: 0.3451841\n",
      "dict_keys(['document', 'file_name', 'chunk_index', 'title', 'source', 'summary', 'publish_date', 'url', 'sentiment', 'confidence'])\n",
      "positive\n",
      "ID: 8241060873442107449, Document: Shares of Apple (NASDAQ: AAPL) have delivered returns of 33% in 2024 as of this Dec. 30. They have gained momentum since the company released results for its fiscal 2024 fourth quarter (which ended Sept. 28) on Oct. 31., Score: 0.34045178\n",
      "dict_keys(['document', 'file_name', 'chunk_index', 'title', 'source', 'summary', 'publish_date', 'url', 'sentiment', 'confidence'])\n",
      "neutral\n",
      "ID: 4535819216415666052, Document: iPhone maker Apple (NASDAQ: AAPL) has been one of the world's most valuable stocks for a long time., Score: 0.3404118\n"
     ]
    }
   ],
   "source": [
    "for hit in search_result:\n",
    "    print(hit.payload.keys())\n",
    "    print(hit.payload['sentiment'])\n",
    "    print(f\"ID: {hit.id}, Document: {hit.payload['document']}, Score: {hit.score}\")"
   ]
  },
  {
   "cell_type": "code",
   "execution_count": 14,
   "metadata": {},
   "outputs": [
    {
     "data": {
      "text/plain": [
       "['umber, including area code)\\nSecurities registered pursuant to Section 12(b) of the Act:\\nTitle of each class\\nTrading symbol(s)\\nName of each exchange on which registered\\nCommon Stock, $0.00001 par value per share\\nAAPL\\nThe Nasdaq Stock Market LLC\\n0.000% Notes due 2025\\n—\\nThe Nasdaq Stock Market LLC\\n0.875% Notes due 2025\\n—\\nThe Nasdaq Stock Market LLC\\n1.625% Notes due 2026\\n—\\nThe Nasdaq Stock Market LLC\\n2.000% Notes due 2027\\n—\\nThe Nasdaq Stock Market LLC\\n1.375% Notes due 2029\\n—\\nThe Nasdaq Stock Market LLC\\n3.050% Notes due 2029\\n—\\nThe Nasdaq Stock Market LLC\\n0.500% Notes due 2031\\n—\\nThe Nasdaq Stock Market LLC\\n3.600% Notes due 2042\\n—\\nThe Nasdaq Stock Market LLC\\nSecurities registered pursuant to Section 12(g) of the Act:  None\\nIndicate by check mark if the Registrant is a well-known seasoned issuer, as defined in Rule 405 of the Securities Act.\\nYes\\n☒\\nNo\\n☐\\nIndicate by check mark if the Registrant is not required to file reports pursuant to Section 13 or Section 15(d) of the Act.\\nYes\\n☐\\nNo\\n☒\\nIndicate by check mark whether the Registrant (1)\\xa0has filed all reports required to be filed by Section 13 or 15(d) of the Securities Exchange Act of 1934 during the preceding 12 months (or for such shorter period that the Registrant was required to file such reports), and (2)\\xa0has been subject to such filing requirements for the past 90 days.\\nYes\\n☒\\nNo\\n☐\\nIndicate by check mark whether the Registrant has submitted electronically every Interactive Data File required to be submitted pursuant to Rule 405 of Regulation S-T (§232.405 of this chapter) during the preceding 12 months (or for such shorter period that the Registrant was required to submit such files).\\nYes\\n☒\\nNo\\n☐\\nIndicate by check mark whether the Registrant is a large accelerated filer, an accelerated filer, a non-accelerated filer, a smaller reporting company, or an emerging growth company. See the definitions of “large accelerated filer,” “accelerated filer,” “smaller reporting company,” and “emerging growth company” in Rule 12b-2 of the Exchange Act.\\nLarge accelerated filer\\n☒\\nAccelerated filer\\n☐\\nNon-accelerated filer\\n☐\\nSmaller reporting company\\n☐\\nEmerging growth company\\n☐\\nIf an emerging growth company, indicate by check mark if the Registrant has elected not to use the extended transition period for complying with any new or revised financial accounting standards provided pursuant to Section 13(a) of the Exchange Act.\\n☐\\nIndicate by check mark whether the Registrant has filed a report on and attestation to its management’s assessment of the effectiveness of its internal control over financial reporting under Section 404(b) of the Sarbanes-Oxley Act (15 U.S.C. 7262(b)) by the registered public accounting firm that prepared or issued its audit report.\\n☒\\nIf securities are registered pursuant to Section 12(b) of the Act, indicate by check mark whether the financial statements of the registrant included in the filing reflect the correction of an error to previously issued financial statements.\\n☐\\nIndicate by check mark wh',\n",
       " 'nded to satisfy the affirmative defense conditions of Rule 10b5-1(c) under the Exchange Act. The plan provides for the sale, subject to certain price limits, of shares vesting between April 1, 2025 and October 1, 2026, pursuant to certain equity awards granted to Ms. O’Brien, excluding any shares withheld by the Company to satisfy income tax withholding and remittance obligations. Ms. O’Brien’s plan will\\nexpire\\non\\nDecember 31, 2026\\n, subject to early termination in accordance with the terms of the plan.\\nOn\\nAugust 29, 2024\\n,\\nJeff Williams\\n, the Company’s\\nChief Operating Officer\\n,\\nentered\\ninto a trading plan intended to satisfy the affirmative defense conditions of Rule 10b5-1(c) under the Exchange Act. The plan provides for the sale, subject to certain price limits, of up to\\n100,000\\nshares of common stock, as well as shares vesting between April 1, 2025 and October 1, 2025, pursuant to certain equity awards granted to Mr. Williams, excluding any shares withheld by the Company to satisfy income tax withholding and remittance obligations. Mr. Williams’ plan will expire on\\nDecember 15, 2025\\n, subject to early termination in accordance with the terms of the plan.\\nItem 9C.\\xa0\\xa0\\xa0\\xa0Disclosure Regarding Foreign Jurisdictions that Prevent Inspections\\nNot applicable.\\nPART III\\nItem 10.\\xa0\\xa0\\xa0\\xa0Directors, Executive Officers and Corporate Governance\\nThe Company\\nhas\\nan insider trading policy governing the purchase, sale and other dispositions of the Company’s securities that applies to all Company personnel, including directors, officers, employees, and other covered persons. The Company also follows procedures for the repurchase of its securities. The Company believes that its insider trading policy and repurchase procedures are reasonably designed to promote compliance with insider trading laws, rules and regulations, and listing standards applicable to the Company. A copy of the Company’s insider trading policy is filed as Exhibit 19.1 to this Form 10-K.\\nThe remaining information required by this Item will be included in the Company’s definitive proxy statement to be filed with the SEC within 120 days after September\\xa028, 2024, in connection with the solicitation of proxies for the Company’s 2025 annual meeting of shareholders (the “2025 Proxy Statement”), and is incorporated herein by reference.\\nItem 11.\\xa0\\xa0\\xa0\\xa0Executive Compensation\\nThe information required by this Item will be included in the 2025 Proxy Statement, and is incorporated herein by reference.\\nItem 12.\\xa0\\xa0\\xa0\\xa0Security Ownership of Certain Beneficial Owners and Management and Related Stockholder Matters\\nThe information required by this Item will be included in the 2025 Proxy Statement, and is incorporated herein by reference.\\nItem 13.\\xa0\\xa0\\xa0\\xa0Certain Relationships and Related Transactions, and Director Independence\\nThe information required by this Item will be included in the 2025 Proxy Statement, and is incorporated herein by reference.\\nItem 14.\\xa0\\xa0\\xa0\\xa0Principal Accountant Fees and Services\\nThe information required by th',\n",
       " '-gaap:MoneyMarketFundsMember\\nus-gaap:FairValueInputsLevel1Member\\n2022-09-24\\n0000320193\\nus-gaap:FairValueInputsLevel1Member\\nus-gaap:MutualFundMember\\n2022-09-24\\n0000320193\\nus-gaap:FairValueInputsLevel1Member\\n2022-09-24\\n0000320193\\nus-gaap:FairValueInputsLevel2Member\\nus-gaap:USTreasurySecuritiesMember\\n2022-09-24\\n0000320193\\nus-gaap:FairValueInputsLevel2Member\\nus-gaap:USGovernmentAgenciesDebtSecuritiesMember\\n2022-09-24\\n0000320193\\nus-gaap:ForeignGovernmentDebtSecuritiesMember\\nus-gaap:FairValueInputsLevel2Member\\n2022-09-24\\n0000320193\\nus-gaap:BankTimeDepositsMember\\nus-gaap:FairValueInputsLevel2Member\\n2022-09-24\\n0000320193\\nus-gaap:FairValueInputsLevel2Member\\nus-gaap:CommercialPaperMember\\n2022-09-24\\n0000320193\\nus-gaap:FairValueInputsLevel2Member\\nus-gaap:CorporateDebtSecuritiesMember\\n2022-09-24\\n0000320193\\nus-gaap:FairValueInputsLevel2Member\\nus-gaap:USStatesAndPoliticalSubdivisionsMember\\n2022-09-24\\n0000320193\\nus-gaap:AssetBackedSecuritiesMember\\nus-gaap:FairValueInputsLevel2Member\\n2022-09-24\\n0000320193\\nus-gaap:FairValueInputsLevel2Member\\n2022-09-24\\n0000320193\\nus-gaap:ForeignExchangeContractMember\\n2022-09-25\\n2023-09-30\\n0000320193\\nus-gaap:CrossCurrencyInterestRateContractMember\\n2022-09-25\\n2023-09-30\\n0000320193\\nus-gaap:DesignatedAsHedgingInstrumentMember\\nus-gaap:ForeignExchangeContractMember\\n2023-09-30\\n0000320193\\nus-gaap:DesignatedAsHedgingInstrumentMember\\nus-gaap:ForeignExchangeContractMember\\n2022-09-24\\n0000320193\\nus-gaap:InterestRateContractMember\\nus-gaap:DesignatedAsHedgingInstrumentMember\\n2023-09-30\\n0000320193\\nus-gaap:InterestRateContractMember\\nus-gaap:DesignatedAsHedgingInstrumentMember\\n2022-09-24\\n0000320193\\nus-gaap:NondesignatedMember\\nus-gaap:ForeignExchangeContractMember\\n2023-09-30\\n0000320193\\nus-gaap:NondesignatedMember\\nus-gaap:ForeignExchangeContractMember\\n2022-09-24\\n0000320193\\nus-gaap:DesignatedAsHedgingInstrumentMember\\nus-gaap:FairValueInputsLevel2Member\\nus-gaap:OtherAssetsMember\\nus-gaap:ForeignExchangeContractMember\\n2022-09-24\\n0000320193\\nus-gaap:NondesignatedMember\\nus-gaap:FairValueInputsLevel2Member\\nus-gaap:OtherAssetsMember\\nus-gaap:ForeignExchangeContractMember\\n2022-09-24\\n0000320193\\nus-gaap:FairValueInputsLevel2Member\\nus-gaap:OtherAssetsMember\\nus-gaap:ForeignExchangeContractMember\\n2022-09-24\\n0000320193\\nus-gaap:CreditConcentrationRiskMember\\n2022-09-24\\n0000320193\\nus-gaap:OtherLiabilitiesMember\\nus-gaap:DesignatedAsHedgingInstrumentMember\\nus-gaap:FairValueInputsLevel2Member\\nus-gaap:ForeignExchangeContractMember\\n2022-09-24\\n0000320193\\nus-gaap:NondesignatedMember\\nus-gaap:OtherLiabilitiesMember\\nus-gaap:FairValueInputsLevel2Member\\nus-gaap:ForeignExchangeContractMember\\n2022-09-24\\n0000320193\\nus-gaap:OtherLiabilitiesMember\\nus-gaap:FairValueInputsLevel2Member\\nus-gaap:ForeignExchangeContractMember\\n2022-09-24\\n0000320193\\nus-gaap:InterestRateContractMember\\nus-gaap:OtherLiabilitiesMember\\nus-gaap:DesignatedAsHedgingInstrumentMember\\nus-gaap:FairValueInputsLevel2Member\\n2022-09-24\\n0000320193\\nus-gaap:NondesignatedMember\\nus-gaap:InterestRateContractMember\\nus-gaap:OtherLiabi',\n",
       " 's (or for such shorter period that the Registrant was required to file such reports), and (2)\\xa0has been subject to such filing requirements for the past 90 days.\\nYes\\n☒\\nNo\\n☐\\nIndicate by check mark whether the Registrant has submitted electronically every Interactive Data File required to be submitted pursuant to Rule 405 of Regulation S-T (§232.405 of this chapter) during the preceding 12 months (or for such shorter period that the Registrant was required to submit such files).\\nYes\\n☒\\nNo\\n☐\\nIndicate by check mark whether the Registrant is a large accelerated filer, an accelerated filer, a non-accelerated filer, a smaller reporting company, or an emerging growth company. See the definitions of “large accelerated filer,” “accelerated filer,” “smaller reporting company,” and “emerging growth company” in Rule 12b-2 of the Exchange Act.\\nLarge accelerated filer\\n☒\\nAccelerated filer\\n☐\\nNon-accelerated filer\\n☐\\nSmaller reporting company\\n☐\\nEmerging growth company\\n☐\\nIf an emerging growth company, indicate by check mark if the Registrant has elected not to use the extended transition period for complying with any new or revised financial accounting standards provided pursuant to Section 13(a) of the Exchange Act.\\n☐\\nIndicate by check mark whether the Registrant has filed a report on and attestation to its management’s assessment of the effectiveness of its internal control over financial reporting under Section 404(b) of the Sarbanes-Oxley Act (15 U.S.C. 7262(b)) by the registered public accounting firm that prepared or issued its audit report.\\n☒\\nIf securities are registered pursuant to Section 12(b) of the Act, indicate by check mark whether the financial statements of the registrant included in the filing reflect the correction of an error to previously issued financial statements.\\n☐\\nIndicate by check mark whether any of those error corrections are restatements that required a recovery analysis of incentive-based compensation received by any of the registrant’s executive officers during the relevant recovery period pursuant to §240.10D-1(b).\\n☐\\nIndicate by check mark whether the Registrant is a shell company (as defined in Rule 12b-2 of the Act).\\nYes\\n☐\\nNo\\n☒\\nThe aggregate market value of the voting and non-voting stock held by non-affiliates of the Registrant, as of March\\xa031, 2023, the last business day of the Registrant’s most recently completed second fiscal quarter, was approximately $\\n2,591,165,000,000\\n. Solely for purposes of this disclosure, shares of common stock held by executive officers and directors of the Registrant as of such date have been excluded because such persons may be deemed to be affiliates. This determination of executive officers and directors as affiliates is not necessarily a conclusive determination for any other purposes.\\n15,552,752,000\\nshares of common stock were issued and outstanding as of October\\xa020, 2023.\\nDOCUMENTS INCORPORATED BY REFERENCE\\nPortions of the Registrant’s definitive proxy statement relating to its 2024 annual meeting ',\n",
       " 'gMember\\n2023-09-30\\n0000320193\\naapl:MachineryEquipmentandInternalUseSoftwareMember\\n2024-09-28\\n0000320193\\naapl:MachineryEquipmentandInternalUseSoftwareMember\\n2023-09-30\\n0000320193\\nus-gaap:LeaseholdImprovementsMember\\n2024-09-28\\n0000320193\\nus-gaap:LeaseholdImprovementsMember\\n2023-09-30\\n0000320193\\naapl:UnfavorableInvestigationOutcomeEUStateAidRulesMember\\n2016-08-30\\n2016-08-30\\n0000320193\\naapl:UnfavorableInvestigationOutcomeEUStateAidRulesMember\\n2016-08-30\\n0000320193\\naapl:UnfavorableInvestigationOutcomeEUStateAidRulesInterestComponentMember\\n2016-08-30\\n0000320193\\naapl:UnfavorableInvestigationOutcomeEUStateAidRulesInterestComponentMember\\n2024-09-28\\n0000320193\\naapl:UnfavorableInvestigationOutcomeEUStateAidRulesMember\\n2024-06-30\\n2024-09-28\\n0000320193\\nsrt:MinimumMember\\n2024-09-28\\n0000320193\\nsrt:MaximumMember\\n2024-09-28\\n0000320193\\nus-gaap:OperatingLeaseLeaseNotYetCommencedMember\\n2024-09-28\\n0000320193\\nus-gaap:CommercialPaperMember\\n2024-09-28\\n0000320193\\nus-gaap:CommercialPaperMember\\n2023-09-30\\n0000320193\\nus-gaap:CommercialPaperMember\\n2023-10-01\\n2024-09-28\\n0000320193\\nus-gaap:CommercialPaperMember\\n2022-09-25\\n2023-09-30\\n0000320193\\naapl:A20132023DebtIssuancesMember\\naapl:FixedRateNotesMember\\nsrt:MinimumMember\\n2024-09-28\\n0000320193\\naapl:A20132023DebtIssuancesMember\\naapl:FixedRateNotesMember\\nsrt:MaximumMember\\n2024-09-28\\n0000320193\\naapl:A20132023DebtIssuancesMember\\naapl:FixedRateNotesMember\\n2023-10-01\\n2024-09-28\\n0000320193\\naapl:A20132023DebtIssuancesMember\\naapl:FixedRateNotesMember\\n2024-09-28\\n0000320193\\naapl:A20132023DebtIssuancesMember\\naapl:FixedRateNotesMember\\n2023-09-30\\n0000320193\\naapl:A20132023DebtIssuancesMember\\naapl:FixedRateNotesMember\\nsrt:MinimumMember\\n2023-09-30\\n0000320193\\naapl:A20132023DebtIssuancesMember\\naapl:FixedRateNotesMember\\nsrt:MaximumMember\\n2023-09-30\\n0000320193\\nus-gaap:CommonStockMember\\n2023-09-30\\n0000320193\\nus-gaap:CommonStockMember\\n2022-09-24\\n0000320193\\nus-gaap:CommonStockMember\\n2021-09-25\\n0000320193\\nus-gaap:CommonStockMember\\n2023-10-01\\n2024-09-28\\n0000320193\\nus-gaap:CommonStockMember\\n2022-09-25\\n2023-09-30\\n0000320193\\nus-gaap:CommonStockMember\\n2021-09-26\\n2022-09-24\\n0000320193\\nus-gaap:CommonStockMember\\n2024-09-28\\n0000320193\\nus-gaap:RestrictedStockUnitsRSUMember\\naapl:EmployeeStockPlan2022PlanMember\\n2023-10-01\\n2024-09-28\\n0000320193\\naapl:EmployeeStockPlan2022PlanMember\\n2022-03-04\\n0000320193\\nus-gaap:RestrictedStockUnitsRSUMember\\n2021-09-25\\n0000320193\\nus-gaap:RestrictedStockUnitsRSUMember\\n2021-09-26\\n2022-09-24\\n0000320193\\nus-gaap:RestrictedStockUnitsRSUMember\\n2022-09-24\\n0000320193\\nus-gaap:RestrictedStockUnitsRSUMember\\n2022-09-25\\n2023-09-30\\n0000320193\\nus-gaap:RestrictedStockUnitsRSUMember\\n2023-09-30\\n0000320193\\nus-gaap:RestrictedStockUnitsRSUMember\\n2023-10-01\\n2024-09-28\\n0000320193\\nus-gaap:RestrictedStockUnitsRSUMember\\n2024-09-28\\n0000320193\\naapl:AmericasSegmentMember\\n2023-10-01\\n2024-09-28\\n0000320193\\naapl:AmericasSegmentMember\\n2022-09-25\\n2023-09-30\\n0000320193\\naapl:AmericasSegmentMember\\n2021-09-26\\n2022-09-24\\n0000320193\\naapl:EuropeSegmentMember\\n2023-10-01\\n2024-09',\n",
       " 'aap:CorporateNonSegmentMember\\n2021-09-26\\n2022-09-24\\n0000320193\\nus-gaap:CorporateNonSegmentMember\\n2020-09-27\\n2021-09-25\\n0000320193\\ncountry:US\\n2022-09-25\\n2023-09-30\\n0000320193\\ncountry:US\\n2021-09-26\\n2022-09-24\\n0000320193\\ncountry:US\\n2020-09-27\\n2021-09-25\\n0000320193\\ncountry:CN\\n2022-09-25\\n2023-09-30\\n0000320193\\ncountry:CN\\n2021-09-26\\n2022-09-24\\n0000320193\\ncountry:CN\\n2020-09-27\\n2021-09-25\\n0000320193\\naapl:OtherCountriesMember\\n2022-09-25\\n2023-09-30\\n0000320193\\naapl:OtherCountriesMember\\n2021-09-26\\n2022-09-24\\n0000320193\\naapl:OtherCountriesMember\\n2020-09-27\\n2021-09-25\\n0000320193\\ncountry:US\\n2023-09-30\\n0000320193\\ncountry:US\\n2022-09-24\\n0000320193\\ncountry:CN\\n2023-09-30\\n0000320193\\ncountry:CN\\n2022-09-24\\n0000320193\\naapl:OtherCountriesMember\\n2023-09-30\\n0000320193\\naapl:OtherCountriesMember\\n2022-09-24\\n0000320193\\naapl:DeirdreOBrienMember\\n2022-09-25\\n2023-09-30\\n0000320193\\naapl:JeffWilliamsMember\\n2022-09-25\\n2023-09-30\\n0000320193\\naapl:DeirdreOBrienMember\\n2023-07-02\\n2023-09-30\\n0000320193\\naapl:JeffWilliamsMember\\n2023-07-02\\n2023-09-30\\n0000320193\\n2023-07-02\\n2023-09-30\\nUNITED STATES\\nSECURITIES AND EXCHANGE COMMISSION\\nWashington, D.C. 20549\\nFORM\\n10-K\\n(Mark One)\\n☒\\nANNUAL REPORT PURSUANT TO SECTION 13 OR 15(d) OF THE SECURITIES EXCHANGE ACT OF 1934\\nFor the fiscal year ended\\nSeptember\\xa030\\n, 2023\\nor\\n☐\\nTRANSITION REPORT PURSUANT TO SECTION 13 OR 15(d) OF THE SECURITIES EXCHANGE ACT OF 1934\\nFor the transition period from\\nto\\n.\\nCommission File Number:\\n001-36743\\nApple Inc.\\n(Exact name of Registrant as specified in its charter)\\nCalifornia\\n94-2404110\\n(State or other jurisdiction\\nof incorporation or organization)\\n(I.R.S. Employer Identification No.)\\nOne Apple Park Way\\nCupertino\\n,\\nCalifornia\\n95014\\n(Address of principal executive offices)\\n(Zip Code)\\n(\\n408\\n)\\n996-1010\\n(Registrant’s telephone number, including area code)\\nSecurities registered pursuant to Section 12(b) of the Act:\\nTitle of each class\\nTrading symbol(s)\\nName of each exchange on which registered\\nCommon Stock, $0.00001 par value per share\\nAAPL\\nThe Nasdaq Stock Market LLC\\n1.375% Notes due 2024\\n—\\nThe Nasdaq Stock Market LLC\\n0.000% Notes due 2025\\n—\\nThe Nasdaq Stock Market LLC\\n0.875% Notes due 2025\\n—\\nThe Nasdaq Stock Market LLC\\n1.625% Notes due 2026\\n—\\nThe Nasdaq Stock Market LLC\\n2.000% Notes due 2027\\n—\\nThe Nasdaq Stock Market LLC\\n1.375% Notes due 2029\\n—\\nThe Nasdaq Stock Market LLC\\n3.050% Notes due 2029\\n—\\nThe Nasdaq Stock Market LLC\\n0.500% Notes due 2031\\n—\\nThe Nasdaq Stock Market LLC\\n3.600% Notes due 2042\\n—\\nThe Nasdaq Stock Market LLC\\nSecurities registered pursuant to Section 12(g) of the Act:  None\\nIndicate by check mark if the Registrant is a well-known seasoned issuer, as defined in Rule 405 of the Securities Act.\\nYes\\n☒\\nNo\\n☐\\nIndicate by check mark if the Registrant is not required to file reports pursuant to Section 13 or Section 15(d) of the Act.\\nYes\\n☐\\nNo\\n☒\\nIndicate by check mark whether the Registrant (1)\\xa0has filed all reports required to be filed by Section 13 or 15(d) of the Securities Exchange Act of 1934 during the preceding 12 month',\n",
       " '193\\nus-gaap:RetainedEarningsMember\\n2022-09-24\\n0000320193\\nus-gaap:RetainedEarningsMember\\n2021-09-25\\n0000320193\\nus-gaap:RetainedEarningsMember\\n2020-09-26\\n0000320193\\nus-gaap:RetainedEarningsMember\\n2022-09-25\\n2023-09-30\\n0000320193\\nus-gaap:RetainedEarningsMember\\n2021-09-26\\n2022-09-24\\n0000320193\\nus-gaap:RetainedEarningsMember\\n2020-09-27\\n2021-09-25\\n0000320193\\nus-gaap:RetainedEarningsMember\\n2023-09-30\\n0000320193\\nus-gaap:AccumulatedOtherComprehensiveIncomeMember\\n2022-09-24\\n0000320193\\nus-gaap:AccumulatedOtherComprehensiveIncomeMember\\n2021-09-25\\n0000320193\\nus-gaap:AccumulatedOtherComprehensiveIncomeMember\\n2020-09-26\\n0000320193\\nus-gaap:AccumulatedOtherComprehensiveIncomeMember\\n2022-09-25\\n2023-09-30\\n0000320193\\nus-gaap:AccumulatedOtherComprehensiveIncomeMember\\n2021-09-26\\n2022-09-24\\n0000320193\\nus-gaap:AccumulatedOtherComprehensiveIncomeMember\\n2020-09-27\\n2021-09-25\\n0000320193\\nus-gaap:AccumulatedOtherComprehensiveIncomeMember\\n2023-09-30\\naapl:performanceObligation\\n0000320193\\naapl:IPhoneMember\\n2022-09-25\\n2023-09-30\\n0000320193\\naapl:IPhoneMember\\n2021-09-26\\n2022-09-24\\n0000320193\\naapl:IPhoneMember\\n2020-09-27\\n2021-09-25\\n0000320193\\naapl:MacMember\\n2022-09-25\\n2023-09-30\\n0000320193\\naapl:MacMember\\n2021-09-26\\n2022-09-24\\n0000320193\\naapl:MacMember\\n2020-09-27\\n2021-09-25\\n0000320193\\naapl:IPadMember\\n2022-09-25\\n2023-09-30\\n0000320193\\naapl:IPadMember\\n2021-09-26\\n2022-09-24\\n0000320193\\naapl:IPadMember\\n2020-09-27\\n2021-09-25\\n0000320193\\naapl:WearablesHomeandAccessoriesMember\\n2022-09-25\\n2023-09-30\\n0000320193\\naapl:WearablesHomeandAccessoriesMember\\n2021-09-26\\n2022-09-24\\n0000320193\\naapl:WearablesHomeandAccessoriesMember\\n2020-09-27\\n2021-09-25\\n0000320193\\n2023-10-01\\n2023-09-30\\nxbrli:pure\\n0000320193\\n2024-09-29\\n2023-09-30\\n0000320193\\n2025-09-28\\n2023-09-30\\n0000320193\\n2026-09-27\\n2023-09-30\\n0000320193\\nus-gaap:RestrictedStockUnitsRSUMember\\n2022-09-25\\n2023-09-30\\n0000320193\\nus-gaap:CashMember\\n2023-09-30\\n0000320193\\nus-gaap:MoneyMarketFundsMember\\nus-gaap:FairValueInputsLevel1Member\\n2023-09-30\\n0000320193\\nus-gaap:FairValueInputsLevel1Member\\nus-gaap:EquitySecuritiesMember\\n2023-09-30\\n0000320193\\nus-gaap:FairValueInputsLevel1Member\\n2023-09-30\\n0000320193\\nus-gaap:FairValueInputsLevel2Member\\nus-gaap:USTreasurySecuritiesMember\\n2023-09-30\\n0000320193\\nus-gaap:FairValueInputsLevel2Member\\nus-gaap:USGovernmentAgenciesDebtSecuritiesMember\\n2023-09-30\\n0000320193\\nus-gaap:ForeignGovernmentDebtSecuritiesMember\\nus-gaap:FairValueInputsLevel2Member\\n2023-09-30\\n0000320193\\nus-gaap:BankTimeDepositsMember\\nus-gaap:FairValueInputsLevel2Member\\n2023-09-30\\n0000320193\\nus-gaap:FairValueInputsLevel2Member\\nus-gaap:CommercialPaperMember\\n2023-09-30\\n0000320193\\nus-gaap:FairValueInputsLevel2Member\\nus-gaap:CorporateDebtSecuritiesMember\\n2023-09-30\\n0000320193\\nus-gaap:FairValueInputsLevel2Member\\nus-gaap:USStatesAndPoliticalSubdivisionsMember\\n2023-09-30\\n0000320193\\nus-gaap:AssetBackedSecuritiesMember\\nus-gaap:FairValueInputsLevel2Member\\n2023-09-30\\n0000320193\\nus-gaap:FairValueInputsLevel2Member\\n2023-09-30\\n0000320193\\nus-gaap:CashMember\\n2022-09-24\\n0000320193\\nus',\n",
       " '-09-24\\n0000320193\\naapl:A20132022DebtIssuancesMember\\naapl:FixedRateNotesMember\\nsrt:MaximumMember\\n2022-09-24\\n0000320193\\nsrt:MinimumMember\\naapl:FixedRateNotesMember\\naapl:ThirdQuarter2023DebtIssuanceMember\\n2023-09-30\\n0000320193\\naapl:FixedRateNotesMember\\naapl:ThirdQuarter2023DebtIssuanceMember\\nsrt:MaximumMember\\n2023-09-30\\n0000320193\\naapl:FixedRateNotesMember\\naapl:ThirdQuarter2023DebtIssuanceMember\\n2022-09-25\\n2023-09-30\\n0000320193\\naapl:FixedRateNotesMember\\naapl:ThirdQuarter2023DebtIssuanceMember\\n2023-09-30\\n0000320193\\naapl:FixedRateNotesMember\\naapl:ThirdQuarter2023DebtIssuanceMember\\n2022-09-24\\n0000320193\\nus-gaap:CommonStockMember\\n2022-09-24\\n0000320193\\nus-gaap:CommonStockMember\\n2021-09-25\\n0000320193\\nus-gaap:CommonStockMember\\n2020-09-26\\n0000320193\\nus-gaap:CommonStockMember\\n2022-09-25\\n2023-09-30\\n0000320193\\nus-gaap:CommonStockMember\\n2021-09-26\\n2022-09-24\\n0000320193\\nus-gaap:CommonStockMember\\n2020-09-27\\n2021-09-25\\n0000320193\\nus-gaap:CommonStockMember\\n2023-09-30\\n0000320193\\nus-gaap:RestrictedStockUnitsRSUMember\\naapl:EmployeeStockPlan2022PlanMember\\n2022-09-25\\n2023-09-30\\n0000320193\\naapl:EmployeeStockPlan2022PlanMember\\n2022-03-04\\n0000320193\\nus-gaap:RestrictedStockUnitsRSUMember\\n2020-09-26\\n0000320193\\nus-gaap:RestrictedStockUnitsRSUMember\\n2020-09-27\\n2021-09-25\\n0000320193\\nus-gaap:RestrictedStockUnitsRSUMember\\n2021-09-25\\n0000320193\\nus-gaap:RestrictedStockUnitsRSUMember\\n2021-09-26\\n2022-09-24\\n0000320193\\nus-gaap:RestrictedStockUnitsRSUMember\\n2022-09-24\\n0000320193\\nus-gaap:RestrictedStockUnitsRSUMember\\n2022-09-25\\n2023-09-30\\n0000320193\\nus-gaap:RestrictedStockUnitsRSUMember\\n2023-09-30\\n0000320193\\naapl:AmericasSegmentMember\\n2022-09-25\\n2023-09-30\\n0000320193\\naapl:AmericasSegmentMember\\n2021-09-26\\n2022-09-24\\n0000320193\\naapl:AmericasSegmentMember\\n2020-09-27\\n2021-09-25\\n0000320193\\naapl:EuropeSegmentMember\\n2022-09-25\\n2023-09-30\\n0000320193\\naapl:EuropeSegmentMember\\n2021-09-26\\n2022-09-24\\n0000320193\\naapl:EuropeSegmentMember\\n2020-09-27\\n2021-09-25\\n0000320193\\naapl:GreaterChinaSegmentMember\\n2022-09-25\\n2023-09-30\\n0000320193\\naapl:GreaterChinaSegmentMember\\n2021-09-26\\n2022-09-24\\n0000320193\\naapl:GreaterChinaSegmentMember\\n2020-09-27\\n2021-09-25\\n0000320193\\naapl:JapanSegmentMember\\n2022-09-25\\n2023-09-30\\n0000320193\\naapl:JapanSegmentMember\\n2021-09-26\\n2022-09-24\\n0000320193\\naapl:JapanSegmentMember\\n2020-09-27\\n2021-09-25\\n0000320193\\naapl:RestOfAsiaPacificSegmentMember\\n2022-09-25\\n2023-09-30\\n0000320193\\naapl:RestOfAsiaPacificSegmentMember\\n2021-09-26\\n2022-09-24\\n0000320193\\naapl:RestOfAsiaPacificSegmentMember\\n2020-09-27\\n2021-09-25\\n0000320193\\nus-gaap:OperatingSegmentsMember\\n2022-09-25\\n2023-09-30\\n0000320193\\nus-gaap:OperatingSegmentsMember\\n2021-09-26\\n2022-09-24\\n0000320193\\nus-gaap:OperatingSegmentsMember\\n2020-09-27\\n2021-09-25\\n0000320193\\nus-gaap:MaterialReconcilingItemsMember\\n2022-09-25\\n2023-09-30\\n0000320193\\nus-gaap:MaterialReconcilingItemsMember\\n2021-09-26\\n2022-09-24\\n0000320193\\nus-gaap:MaterialReconcilingItemsMember\\n2020-09-27\\n2021-09-25\\n0000320193\\nus-gaap:CorporateNonSegmentMember\\n2022-09-25\\n2023-09-30\\n0000320193\\nus-g',\n",
       " 'er\\n2023-09-30\\n0000320193\\nus-gaap:FairValueInputsLevel1Member\\nus-gaap:EquitySecuritiesMember\\n2023-09-30\\n0000320193\\nus-gaap:FairValueInputsLevel1Member\\n2023-09-30\\n0000320193\\nus-gaap:FairValueInputsLevel2Member\\nus-gaap:USTreasurySecuritiesMember\\n2023-09-30\\n0000320193\\nus-gaap:FairValueInputsLevel2Member\\nus-gaap:USGovernmentAgenciesDebtSecuritiesMember\\n2023-09-30\\n0000320193\\nus-gaap:FairValueInputsLevel2Member\\nus-gaap:ForeignGovernmentDebtSecuritiesMember\\n2023-09-30\\n0000320193\\nus-gaap:FairValueInputsLevel2Member\\nus-gaap:BankTimeDepositsMember\\n2023-09-30\\n0000320193\\nus-gaap:FairValueInputsLevel2Member\\nus-gaap:CommercialPaperMember\\n2023-09-30\\n0000320193\\nus-gaap:FairValueInputsLevel2Member\\nus-gaap:CorporateDebtSecuritiesMember\\n2023-09-30\\n0000320193\\nus-gaap:FairValueInputsLevel2Member\\nus-gaap:USStatesAndPoliticalSubdivisionsMember\\n2023-09-30\\n0000320193\\nus-gaap:FairValueInputsLevel2Member\\nus-gaap:AssetBackedSecuritiesMember\\n2023-09-30\\n0000320193\\nus-gaap:FairValueInputsLevel2Member\\n2023-09-30\\n0000320193\\naapl:UnfavorableInvestigationOutcomeEUStateAidRulesMember\\n2024-09-28\\n0000320193\\naapl:MarketableDebtSecuritiesOtherThanAssetBackedSecuritiesMember\\n2024-09-28\\n0000320193\\nus-gaap:AssetBackedSecuritiesMember\\n2024-09-28\\n0000320193\\nus-gaap:ForeignExchangeContractMember\\n2023-10-01\\n2024-09-28\\n0000320193\\nus-gaap:CrossCurrencyInterestRateContractMember\\n2023-10-01\\n2024-09-28\\n0000320193\\nus-gaap:ForeignExchangeContractMember\\nus-gaap:DesignatedAsHedgingInstrumentMember\\n2024-09-28\\n0000320193\\nus-gaap:ForeignExchangeContractMember\\nus-gaap:DesignatedAsHedgingInstrumentMember\\n2023-09-30\\n0000320193\\nus-gaap:InterestRateContractMember\\nus-gaap:DesignatedAsHedgingInstrumentMember\\n2024-09-28\\n0000320193\\nus-gaap:InterestRateContractMember\\nus-gaap:DesignatedAsHedgingInstrumentMember\\n2023-09-30\\n0000320193\\nus-gaap:ForeignExchangeContractMember\\nus-gaap:NondesignatedMember\\n2024-09-28\\n0000320193\\nus-gaap:ForeignExchangeContractMember\\nus-gaap:NondesignatedMember\\n2023-09-30\\n0000320193\\naapl:CellularNetworkCarriersMember\\nus-gaap:CreditConcentrationRiskMember\\nus-gaap:TradeAccountsReceivableMember\\n2023-10-01\\n2024-09-28\\n0000320193\\naapl:CellularNetworkCarriersMember\\nus-gaap:CreditConcentrationRiskMember\\nus-gaap:TradeAccountsReceivableMember\\n2022-09-25\\n2023-09-30\\n0000320193\\nus-gaap:CreditConcentrationRiskMember\\naapl:NonTradeReceivableMember\\n2024-09-28\\n0000320193\\naapl:VendorOneMember\\nus-gaap:CreditConcentrationRiskMember\\naapl:NonTradeReceivableMember\\n2023-10-01\\n2024-09-28\\n0000320193\\naapl:VendorTwoMember\\nus-gaap:CreditConcentrationRiskMember\\naapl:NonTradeReceivableMember\\n2023-10-01\\n2024-09-28\\n0000320193\\nus-gaap:CreditConcentrationRiskMember\\naapl:NonTradeReceivableMember\\n2023-09-30\\n0000320193\\naapl:VendorOneMember\\nus-gaap:CreditConcentrationRiskMember\\naapl:NonTradeReceivableMember\\n2022-09-25\\n2023-09-30\\n0000320193\\naapl:VendorTwoMember\\nus-gaap:CreditConcentrationRiskMember\\naapl:NonTradeReceivableMember\\n2022-09-25\\n2023-09-30\\n0000320193\\nus-gaap:LandAndBuildingMember\\n2024-09-28\\n0000320193\\nus-gaap:LandAndBuildin',\n",
       " '-28\\n0000320193\\naapl:EuropeSegmentMember\\n2022-09-25\\n2023-09-30\\n0000320193\\naapl:EuropeSegmentMember\\n2021-09-26\\n2022-09-24\\n0000320193\\naapl:GreaterChinaSegmentMember\\n2023-10-01\\n2024-09-28\\n0000320193\\naapl:GreaterChinaSegmentMember\\n2022-09-25\\n2023-09-30\\n0000320193\\naapl:GreaterChinaSegmentMember\\n2021-09-26\\n2022-09-24\\n0000320193\\naapl:JapanSegmentMember\\n2023-10-01\\n2024-09-28\\n0000320193\\naapl:JapanSegmentMember\\n2022-09-25\\n2023-09-30\\n0000320193\\naapl:JapanSegmentMember\\n2021-09-26\\n2022-09-24\\n0000320193\\naapl:RestOfAsiaPacificSegmentMember\\n2023-10-01\\n2024-09-28\\n0000320193\\naapl:RestOfAsiaPacificSegmentMember\\n2022-09-25\\n2023-09-30\\n0000320193\\naapl:RestOfAsiaPacificSegmentMember\\n2021-09-26\\n2022-09-24\\n0000320193\\nus-gaap:OperatingSegmentsMember\\n2023-10-01\\n2024-09-28\\n0000320193\\nus-gaap:OperatingSegmentsMember\\n2022-09-25\\n2023-09-30\\n0000320193\\nus-gaap:OperatingSegmentsMember\\n2021-09-26\\n2022-09-24\\n0000320193\\nus-gaap:MaterialReconcilingItemsMember\\n2023-10-01\\n2024-09-28\\n0000320193\\nus-gaap:MaterialReconcilingItemsMember\\n2022-09-25\\n2023-09-30\\n0000320193\\nus-gaap:MaterialReconcilingItemsMember\\n2021-09-26\\n2022-09-24\\n0000320193\\nus-gaap:CorporateNonSegmentMember\\n2023-10-01\\n2024-09-28\\n0000320193\\nus-gaap:CorporateNonSegmentMember\\n2022-09-25\\n2023-09-30\\n0000320193\\nus-gaap:CorporateNonSegmentMember\\n2021-09-26\\n2022-09-24\\n0000320193\\ncountry:US\\n2023-10-01\\n2024-09-28\\n0000320193\\ncountry:US\\n2022-09-25\\n2023-09-30\\n0000320193\\ncountry:US\\n2021-09-26\\n2022-09-24\\n0000320193\\ncountry:CN\\n2023-10-01\\n2024-09-28\\n0000320193\\ncountry:CN\\n2022-09-25\\n2023-09-30\\n0000320193\\ncountry:CN\\n2021-09-26\\n2022-09-24\\n0000320193\\naapl:OtherCountriesMember\\n2023-10-01\\n2024-09-28\\n0000320193\\naapl:OtherCountriesMember\\n2022-09-25\\n2023-09-30\\n0000320193\\naapl:OtherCountriesMember\\n2021-09-26\\n2022-09-24\\n0000320193\\ncountry:US\\n2024-09-28\\n0000320193\\ncountry:US\\n2023-09-30\\n0000320193\\ncountry:CN\\n2024-09-28\\n0000320193\\ncountry:CN\\n2023-09-30\\n0000320193\\naapl:OtherCountriesMember\\n2024-09-28\\n0000320193\\naapl:OtherCountriesMember\\n2023-09-30\\n0000320193\\naapl:DeirdreOBrienMember\\n2023-10-01\\n2024-09-28\\n0000320193\\naapl:DeirdreOBrienMember\\n2024-06-30\\n2024-09-28\\n0000320193\\n2024-06-30\\n2024-09-28\\n0000320193\\naapl:JeffWilliamsMember\\n2023-10-01\\n2024-09-28\\n0000320193\\naapl:JeffWilliamsMember\\n2024-06-30\\n2024-09-28\\n0000320193\\naapl:JeffWilliamsMember\\n2024-09-28\\nUNITED STATES\\nSECURITIES AND EXCHANGE COMMISSION\\nWashington, D.C. 20549\\nFORM\\n10-K\\n(Mark One)\\n☒\\nANNUAL REPORT PURSUANT TO SECTION 13 OR 15(d) OF THE SECURITIES EXCHANGE ACT OF 1934\\nFor the fiscal year ended\\nSeptember\\xa028\\n, 2024\\nor\\n☐\\nTRANSITION REPORT PURSUANT TO SECTION 13 OR 15(d) OF THE SECURITIES EXCHANGE ACT OF 1934\\nFor the transition period from\\nto\\n.\\nCommission File Number:\\n001-36743\\nApple Inc.\\n(Exact name of Registrant as specified in its charter)\\nCalifornia\\n94-2404110\\n(State or other jurisdiction\\nof incorporation or organization)\\n(I.R.S. Employer Identification No.)\\nOne Apple Park Way\\nCupertino\\n,\\nCalifornia\\n95014\\n(Address of principal executive offices)\\n(Zip Code)\\n(\\n408\\n)\\n996-1010\\n(Registrant’s telephone n']"
      ]
     },
     "execution_count": 14,
     "metadata": {},
     "output_type": "execute_result"
    }
   ],
   "source": [
    "document_list = [point.payload['document'] for point in search_result]\n",
    "\n",
    "document_list"
   ]
  },
  {
   "cell_type": "markdown",
   "metadata": {},
   "source": [
    "checking token limit, max 4096 tokens in each document"
   ]
  },
  {
   "cell_type": "code",
   "execution_count": 16,
   "metadata": {},
   "outputs": [
    {
     "name": "stdout",
     "output_type": "stream",
     "text": [
      "[586, 538, 256, 540, 269, 518, 274, 283, 256, 375]\n"
     ]
    }
   ],
   "source": [
    "# Assuming document_list contains text-based documents (strings)\n",
    "tokens_per_document = [len(word_tokenize(doc)) for doc in document_list]\n",
    "\n",
    "# Printing the number of tokens for each document\n",
    "print(tokens_per_document)\n",
    "\n",
    "## max 4096 tokens in each document "
   ]
  },
  {
   "cell_type": "code",
   "execution_count": 17,
   "metadata": {},
   "outputs": [],
   "source": [
    "rerank_results = co.rerank(\n",
    "    model=\"rerank-english-v3.0\",\n",
    "    query=query,\n",
    "    documents=document_list,\n",
    "    top_n=3,\n",
    "    return_documents=True\n",
    ")"
   ]
  },
  {
   "cell_type": "code",
   "execution_count": 18,
   "metadata": {},
   "outputs": [
    {
     "name": "stdout",
     "output_type": "stream",
     "text": [
      "['umber, including area code)\\nSecurities registered pursuant to Section 12(b) of the Act:\\nTitle of each class\\nTrading symbol(s)\\nName of each exchange on which registered\\nCommon Stock, $0.00001 par value per share\\nAAPL\\nThe Nasdaq Stock Market LLC\\n0.000% Notes due 2025\\n—\\nThe Nasdaq Stock Market LLC\\n0.875% Notes due 2025\\n—\\nThe Nasdaq Stock Market LLC\\n1.625% Notes due 2026\\n—\\nThe Nasdaq Stock Market LLC\\n2.000% Notes due 2027\\n—\\nThe Nasdaq Stock Market LLC\\n1.375% Notes due 2029\\n—\\nThe Nasdaq Stock Market LLC\\n3.050% Notes due 2029\\n—\\nThe Nasdaq Stock Market LLC\\n0.500% Notes due 2031\\n—\\nThe Nasdaq Stock Market LLC\\n3.600% Notes due 2042\\n—\\nThe Nasdaq Stock Market LLC\\nSecurities registered pursuant to Section 12(g) of the Act:  None\\nIndicate by check mark if the Registrant is a well-known seasoned issuer, as defined in Rule 405 of the Securities Act.\\nYes\\n☒\\nNo\\n☐\\nIndicate by check mark if the Registrant is not required to file reports pursuant to Section 13 or Section 15(d) of the Act.\\nYes\\n☐\\nNo\\n☒\\nIndicate by check mark whether the Registrant (1)\\xa0has filed all reports required to be filed by Section 13 or 15(d) of the Securities Exchange Act of 1934 during the preceding 12 months (or for such shorter period that the Registrant was required to file such reports), and (2)\\xa0has been subject to such filing requirements for the past 90 days.\\nYes\\n☒\\nNo\\n☐\\nIndicate by check mark whether the Registrant has submitted electronically every Interactive Data File required to be submitted pursuant to Rule 405 of Regulation S-T (§232.405 of this chapter) during the preceding 12 months (or for such shorter period that the Registrant was required to submit such files).\\nYes\\n☒\\nNo\\n☐\\nIndicate by check mark whether the Registrant is a large accelerated filer, an accelerated filer, a non-accelerated filer, a smaller reporting company, or an emerging growth company. See the definitions of “large accelerated filer,” “accelerated filer,” “smaller reporting company,” and “emerging growth company” in Rule 12b-2 of the Exchange Act.\\nLarge accelerated filer\\n☒\\nAccelerated filer\\n☐\\nNon-accelerated filer\\n☐\\nSmaller reporting company\\n☐\\nEmerging growth company\\n☐\\nIf an emerging growth company, indicate by check mark if the Registrant has elected not to use the extended transition period for complying with any new or revised financial accounting standards provided pursuant to Section 13(a) of the Exchange Act.\\n☐\\nIndicate by check mark whether the Registrant has filed a report on and attestation to its management’s assessment of the effectiveness of its internal control over financial reporting under Section 404(b) of the Sarbanes-Oxley Act (15 U.S.C. 7262(b)) by the registered public accounting firm that prepared or issued its audit report.\\n☒\\nIf securities are registered pursuant to Section 12(b) of the Act, indicate by check mark whether the financial statements of the registrant included in the filing reflect the correction of an error to previously issued financial statements.\\n☐\\nIndicate by check mark wh', 'aap:CorporateNonSegmentMember\\n2021-09-26\\n2022-09-24\\n0000320193\\nus-gaap:CorporateNonSegmentMember\\n2020-09-27\\n2021-09-25\\n0000320193\\ncountry:US\\n2022-09-25\\n2023-09-30\\n0000320193\\ncountry:US\\n2021-09-26\\n2022-09-24\\n0000320193\\ncountry:US\\n2020-09-27\\n2021-09-25\\n0000320193\\ncountry:CN\\n2022-09-25\\n2023-09-30\\n0000320193\\ncountry:CN\\n2021-09-26\\n2022-09-24\\n0000320193\\ncountry:CN\\n2020-09-27\\n2021-09-25\\n0000320193\\naapl:OtherCountriesMember\\n2022-09-25\\n2023-09-30\\n0000320193\\naapl:OtherCountriesMember\\n2021-09-26\\n2022-09-24\\n0000320193\\naapl:OtherCountriesMember\\n2020-09-27\\n2021-09-25\\n0000320193\\ncountry:US\\n2023-09-30\\n0000320193\\ncountry:US\\n2022-09-24\\n0000320193\\ncountry:CN\\n2023-09-30\\n0000320193\\ncountry:CN\\n2022-09-24\\n0000320193\\naapl:OtherCountriesMember\\n2023-09-30\\n0000320193\\naapl:OtherCountriesMember\\n2022-09-24\\n0000320193\\naapl:DeirdreOBrienMember\\n2022-09-25\\n2023-09-30\\n0000320193\\naapl:JeffWilliamsMember\\n2022-09-25\\n2023-09-30\\n0000320193\\naapl:DeirdreOBrienMember\\n2023-07-02\\n2023-09-30\\n0000320193\\naapl:JeffWilliamsMember\\n2023-07-02\\n2023-09-30\\n0000320193\\n2023-07-02\\n2023-09-30\\nUNITED STATES\\nSECURITIES AND EXCHANGE COMMISSION\\nWashington, D.C. 20549\\nFORM\\n10-K\\n(Mark One)\\n☒\\nANNUAL REPORT PURSUANT TO SECTION 13 OR 15(d) OF THE SECURITIES EXCHANGE ACT OF 1934\\nFor the fiscal year ended\\nSeptember\\xa030\\n, 2023\\nor\\n☐\\nTRANSITION REPORT PURSUANT TO SECTION 13 OR 15(d) OF THE SECURITIES EXCHANGE ACT OF 1934\\nFor the transition period from\\nto\\n.\\nCommission File Number:\\n001-36743\\nApple Inc.\\n(Exact name of Registrant as specified in its charter)\\nCalifornia\\n94-2404110\\n(State or other jurisdiction\\nof incorporation or organization)\\n(I.R.S. Employer Identification No.)\\nOne Apple Park Way\\nCupertino\\n,\\nCalifornia\\n95014\\n(Address of principal executive offices)\\n(Zip Code)\\n(\\n408\\n)\\n996-1010\\n(Registrant’s telephone number, including area code)\\nSecurities registered pursuant to Section 12(b) of the Act:\\nTitle of each class\\nTrading symbol(s)\\nName of each exchange on which registered\\nCommon Stock, $0.00001 par value per share\\nAAPL\\nThe Nasdaq Stock Market LLC\\n1.375% Notes due 2024\\n—\\nThe Nasdaq Stock Market LLC\\n0.000% Notes due 2025\\n—\\nThe Nasdaq Stock Market LLC\\n0.875% Notes due 2025\\n—\\nThe Nasdaq Stock Market LLC\\n1.625% Notes due 2026\\n—\\nThe Nasdaq Stock Market LLC\\n2.000% Notes due 2027\\n—\\nThe Nasdaq Stock Market LLC\\n1.375% Notes due 2029\\n—\\nThe Nasdaq Stock Market LLC\\n3.050% Notes due 2029\\n—\\nThe Nasdaq Stock Market LLC\\n0.500% Notes due 2031\\n—\\nThe Nasdaq Stock Market LLC\\n3.600% Notes due 2042\\n—\\nThe Nasdaq Stock Market LLC\\nSecurities registered pursuant to Section 12(g) of the Act:  None\\nIndicate by check mark if the Registrant is a well-known seasoned issuer, as defined in Rule 405 of the Securities Act.\\nYes\\n☒\\nNo\\n☐\\nIndicate by check mark if the Registrant is not required to file reports pursuant to Section 13 or Section 15(d) of the Act.\\nYes\\n☐\\nNo\\n☒\\nIndicate by check mark whether the Registrant (1)\\xa0has filed all reports required to be filed by Section 13 or 15(d) of the Securities Exchange Act of 1934 during the preceding 12 month', '-28\\n0000320193\\naapl:EuropeSegmentMember\\n2022-09-25\\n2023-09-30\\n0000320193\\naapl:EuropeSegmentMember\\n2021-09-26\\n2022-09-24\\n0000320193\\naapl:GreaterChinaSegmentMember\\n2023-10-01\\n2024-09-28\\n0000320193\\naapl:GreaterChinaSegmentMember\\n2022-09-25\\n2023-09-30\\n0000320193\\naapl:GreaterChinaSegmentMember\\n2021-09-26\\n2022-09-24\\n0000320193\\naapl:JapanSegmentMember\\n2023-10-01\\n2024-09-28\\n0000320193\\naapl:JapanSegmentMember\\n2022-09-25\\n2023-09-30\\n0000320193\\naapl:JapanSegmentMember\\n2021-09-26\\n2022-09-24\\n0000320193\\naapl:RestOfAsiaPacificSegmentMember\\n2023-10-01\\n2024-09-28\\n0000320193\\naapl:RestOfAsiaPacificSegmentMember\\n2022-09-25\\n2023-09-30\\n0000320193\\naapl:RestOfAsiaPacificSegmentMember\\n2021-09-26\\n2022-09-24\\n0000320193\\nus-gaap:OperatingSegmentsMember\\n2023-10-01\\n2024-09-28\\n0000320193\\nus-gaap:OperatingSegmentsMember\\n2022-09-25\\n2023-09-30\\n0000320193\\nus-gaap:OperatingSegmentsMember\\n2021-09-26\\n2022-09-24\\n0000320193\\nus-gaap:MaterialReconcilingItemsMember\\n2023-10-01\\n2024-09-28\\n0000320193\\nus-gaap:MaterialReconcilingItemsMember\\n2022-09-25\\n2023-09-30\\n0000320193\\nus-gaap:MaterialReconcilingItemsMember\\n2021-09-26\\n2022-09-24\\n0000320193\\nus-gaap:CorporateNonSegmentMember\\n2023-10-01\\n2024-09-28\\n0000320193\\nus-gaap:CorporateNonSegmentMember\\n2022-09-25\\n2023-09-30\\n0000320193\\nus-gaap:CorporateNonSegmentMember\\n2021-09-26\\n2022-09-24\\n0000320193\\ncountry:US\\n2023-10-01\\n2024-09-28\\n0000320193\\ncountry:US\\n2022-09-25\\n2023-09-30\\n0000320193\\ncountry:US\\n2021-09-26\\n2022-09-24\\n0000320193\\ncountry:CN\\n2023-10-01\\n2024-09-28\\n0000320193\\ncountry:CN\\n2022-09-25\\n2023-09-30\\n0000320193\\ncountry:CN\\n2021-09-26\\n2022-09-24\\n0000320193\\naapl:OtherCountriesMember\\n2023-10-01\\n2024-09-28\\n0000320193\\naapl:OtherCountriesMember\\n2022-09-25\\n2023-09-30\\n0000320193\\naapl:OtherCountriesMember\\n2021-09-26\\n2022-09-24\\n0000320193\\ncountry:US\\n2024-09-28\\n0000320193\\ncountry:US\\n2023-09-30\\n0000320193\\ncountry:CN\\n2024-09-28\\n0000320193\\ncountry:CN\\n2023-09-30\\n0000320193\\naapl:OtherCountriesMember\\n2024-09-28\\n0000320193\\naapl:OtherCountriesMember\\n2023-09-30\\n0000320193\\naapl:DeirdreOBrienMember\\n2023-10-01\\n2024-09-28\\n0000320193\\naapl:DeirdreOBrienMember\\n2024-06-30\\n2024-09-28\\n0000320193\\n2024-06-30\\n2024-09-28\\n0000320193\\naapl:JeffWilliamsMember\\n2023-10-01\\n2024-09-28\\n0000320193\\naapl:JeffWilliamsMember\\n2024-06-30\\n2024-09-28\\n0000320193\\naapl:JeffWilliamsMember\\n2024-09-28\\nUNITED STATES\\nSECURITIES AND EXCHANGE COMMISSION\\nWashington, D.C. 20549\\nFORM\\n10-K\\n(Mark One)\\n☒\\nANNUAL REPORT PURSUANT TO SECTION 13 OR 15(d) OF THE SECURITIES EXCHANGE ACT OF 1934\\nFor the fiscal year ended\\nSeptember\\xa028\\n, 2024\\nor\\n☐\\nTRANSITION REPORT PURSUANT TO SECTION 13 OR 15(d) OF THE SECURITIES EXCHANGE ACT OF 1934\\nFor the transition period from\\nto\\n.\\nCommission File Number:\\n001-36743\\nApple Inc.\\n(Exact name of Registrant as specified in its charter)\\nCalifornia\\n94-2404110\\n(State or other jurisdiction\\nof incorporation or organization)\\n(I.R.S. Employer Identification No.)\\nOne Apple Park Way\\nCupertino\\n,\\nCalifornia\\n95014\\n(Address of principal executive offices)\\n(Zip Code)\\n(\\n408\\n)\\n996-1010\\n(Registrant’s telephone n']\n",
      "3\n"
     ]
    }
   ],
   "source": [
    "# print(dir(rerank_results))\n",
    "top_documents = [item.document.text for item in rerank_results.results]\n",
    "print(top_documents)\n",
    "print(len(top_documents))"
   ]
  },
  {
   "cell_type": "markdown",
   "metadata": {},
   "source": [
    "send to open ai for query"
   ]
  },
  {
   "cell_type": "code",
   "execution_count": 20,
   "metadata": {},
   "outputs": [
    {
     "name": "stdout",
     "output_type": "stream",
     "text": [
      "The ticker symbol of the company mentioned in the document is AAPL.\n"
     ]
    }
   ],
   "source": [
    "# Combine the top documents into a single prompt\n",
    "combined_documents = \"\\n\\n\".join(top_documents[:3])  # Use top 3 or however many you want\n",
    "\n",
    "# Prepare the prompt for the combined documents\n",
    "prompt = f\"Query: {query}\\n\\nDocuments: {combined_documents}\\n\\nAnswer:\"\n",
    "\n",
    "# Generate a response using the OpenAI GPT model\n",
    "response = client_gpt.responses.create(\n",
    "    model=\"gpt-3.5-turbo\",  # Use the desired OpenAI model\n",
    "    input=prompt,  # The prompt for the LLM\n",
    ")\n",
    "\n",
    "# Output the answer\n",
    "print(response.output_text.strip())\n"
   ]
  }
 ],
 "metadata": {
  "kernelspec": {
   "display_name": "myenv",
   "language": "python",
   "name": "python3"
  },
  "language_info": {
   "codemirror_mode": {
    "name": "ipython",
    "version": 3
   },
   "file_extension": ".py",
   "mimetype": "text/x-python",
   "name": "python",
   "nbconvert_exporter": "python",
   "pygments_lexer": "ipython3",
   "version": "3.10.16"
  }
 },
 "nbformat": 4,
 "nbformat_minor": 2
}
