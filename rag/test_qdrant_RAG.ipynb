{
 "cells": [
  {
   "cell_type": "code",
   "execution_count": 3,
   "metadata": {},
   "outputs": [
    {
     "name": "stderr",
     "output_type": "stream",
     "text": [
      "[nltk_data] Downloading package punkt to\n",
      "[nltk_data]     /Users/yunethirikhin/nltk_data...\n",
      "[nltk_data]   Unzipping tokenizers/punkt.zip.\n"
     ]
    }
   ],
   "source": [
    "import os\n",
    "import json\n",
    "import cohere\n",
    "from typing import Annotated, TypedDict\n",
    "from dotenv import load_dotenv\n",
    "from langchain.embeddings import OpenAIEmbeddings\n",
    "from langgraph import StateGraph, tool, ToolNode, ToolMessage\n",
    "from langchain.document_loaders import HuggingFaceDatasetLoader\n",
    "from langchain.text_splitter import RecursiveCharacterTextSplitter\n",
    "from langchain.llms import ChatOpenAI\n",
    "from qdrant_client import QdrantClient\n",
    "from qdrant_client.http.models import VectorParams\n",
    "from brave_search import BraveSearch\n",
    "from langchain.embeddings.base import Embeddings\n",
    "from langchain.vectorstores import QdrantVectorStore\n"
   ]
  },
  {
   "cell_type": "code",
   "execution_count": null,
   "metadata": {},
   "outputs": [],
   "source": [
    "class State(TypedDict):\n",
    "    messages: Annotated[list, add_messages]"
   ]
  },
  {
   "cell_type": "code",
   "execution_count": null,
   "metadata": {},
   "outputs": [],
   "source": [
    "import cohere\n",
    "from langchain.vectorstores import QdrantVectorStore\n",
    "from langchain.embeddings.base import Embeddings\n",
    "\n",
    "# Initialize Cohere client\n",
    "cohere_api_key = 'your_cohere_api_key_here'\n",
    "cohere_client = cohere.Client(cohere_api_key)\n",
    "\n",
    "class CohereEmbeddings(Embeddings):\n",
    "    def embed_documents(self, texts):\n",
    "        # Get embeddings for a list of texts\n",
    "        response = cohere_client.embed(texts=texts, model=\"embed-english-v2.0\", truncate=\"END\")\n",
    "        return response.embeddings\n",
    "\n",
    "    def embed_query(self, query):\n",
    "        # Get embedding for a single query\n",
    "        response = cohere_client.embed(texts=[query], model=\"embed-english-v2.0\", truncate=\"END\")\n",
    "        return response.embeddings[0]\n",
    "\n",
    "# Create retriever function using Cohere embeddings\n",
    "def create_retriever(collection_name, doc_splits):\n",
    "    cohere_embeddings = CohereEmbeddings()\n",
    "\n",
    "    # Create Qdrant VectorStore with Cohere embeddings\n",
    "    vectorstore = QdrantVectorStore.from_documents(\n",
    "        doc_splits,\n",
    "        cohere_embeddings,\n",
    "        url=qdrant_url,\n",
    "        api_key=qdrant_key,\n",
    "        collection_name=collection_name,\n",
    "    )\n",
    "    return vectorstore.as_retriever()\n",
    "\n",
    "# Example usage\n",
    "collection_name = 'your_collection_name'\n",
    "doc_splits = ['Document text 1', 'Document text 2', 'Document text 3']  # Replace with actual document splits\n",
    "retriever = create_retriever(collection_name, doc_splits)\n"
   ]
  }
 ],
 "metadata": {
  "kernelspec": {
   "display_name": "myenv",
   "language": "python",
   "name": "python3"
  },
  "language_info": {
   "codemirror_mode": {
    "name": "ipython",
    "version": 3
   },
   "file_extension": ".py",
   "mimetype": "text/x-python",
   "name": "python",
   "nbconvert_exporter": "python",
   "pygments_lexer": "ipython3",
   "version": "3.10.16"
  }
 },
 "nbformat": 4,
 "nbformat_minor": 2
}
