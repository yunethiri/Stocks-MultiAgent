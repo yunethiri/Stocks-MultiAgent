{
 "cells": [
  {
   "cell_type": "code",
   "execution_count": 1,
   "id": "9f84c964",
   "metadata": {},
   "outputs": [
    {
     "name": "stdout",
     "output_type": "stream",
     "text": [
      "Defaulting to user installation because normal site-packages is not writeable\n",
      "Collecting langchain_openai\n",
      "  Downloading langchain_openai-0.3.13-py3-none-any.whl (61 kB)\n",
      "\u001b[K     |████████████████████████████████| 61 kB 1.6 MB/s eta 0:00:01\n",
      "\u001b[?25hCollecting langgraph\n",
      "  Downloading langgraph-0.3.30-py3-none-any.whl (144 kB)\n",
      "\u001b[K     |████████████████████████████████| 144 kB 5.1 MB/s eta 0:00:01\n",
      "\u001b[?25hCollecting typing\n",
      "  Using cached typing-3.7.4.3-py3-none-any.whl\n",
      "Collecting datetime\n",
      "  Downloading DateTime-5.5-py3-none-any.whl (52 kB)\n",
      "\u001b[K     |████████████████████████████████| 52 kB 4.4 MB/s eta 0:00:01\n",
      "\u001b[?25hCollecting langchain_core\n",
      "  Downloading langchain_core-0.3.52-py3-none-any.whl (433 kB)\n",
      "\u001b[K     |████████████████████████████████| 433 kB 6.2 MB/s eta 0:00:01\n",
      "\u001b[?25hCollecting google.genai\n",
      "  Downloading google_genai-1.10.0-py3-none-any.whl (154 kB)\n",
      "\u001b[K     |████████████████████████████████| 154 kB 6.1 MB/s eta 0:00:01\n",
      "\u001b[?25hRequirement already satisfied: pandas in /Users/yixuan/Library/Python/3.9/lib/python/site-packages (2.2.3)\n",
      "Requirement already satisfied: matplotlib in /Users/yixuan/Library/Python/3.9/lib/python/site-packages (3.9.3)\n",
      "Collecting yfinance\n",
      "  Downloading yfinance-0.2.55-py2.py3-none-any.whl (109 kB)\n",
      "\u001b[K     |████████████████████████████████| 109 kB 6.6 MB/s eta 0:00:01\n",
      "\u001b[?25hCollecting openai<2.0.0,>=1.68.2\n",
      "  Downloading openai-1.75.0-py3-none-any.whl (646 kB)\n",
      "\u001b[K     |████████████████████████████████| 646 kB 5.9 MB/s eta 0:00:01\n",
      "\u001b[?25hRequirement already satisfied: tiktoken<1,>=0.7 in /Users/yixuan/Library/Python/3.9/lib/python/site-packages (from langchain_openai) (0.9.0)\n",
      "Collecting langgraph-sdk<0.2.0,>=0.1.42\n",
      "  Downloading langgraph_sdk-0.1.61-py3-none-any.whl (47 kB)\n",
      "\u001b[K     |████████████████████████████████| 47 kB 6.3 MB/s eta 0:00:01\n",
      "\u001b[?25hCollecting langgraph-prebuilt<0.2,>=0.1.1\n",
      "  Downloading langgraph_prebuilt-0.1.8-py3-none-any.whl (25 kB)\n",
      "Collecting langgraph-checkpoint<3.0.0,>=2.0.10\n",
      "  Downloading langgraph_checkpoint-2.0.24-py3-none-any.whl (42 kB)\n",
      "\u001b[K     |████████████████████████████████| 42 kB 2.0 MB/s eta 0:00:01\n",
      "\u001b[?25hCollecting xxhash<4.0.0,>=3.5.0\n",
      "  Downloading xxhash-3.5.0-cp39-cp39-macosx_11_0_arm64.whl (30 kB)\n",
      "Requirement already satisfied: pytz in /Users/yixuan/Library/Python/3.9/lib/python/site-packages (from datetime) (2024.2)\n",
      "Collecting zope.interface\n",
      "  Downloading zope.interface-7.2-cp39-cp39-macosx_11_0_arm64.whl (208 kB)\n",
      "\u001b[K     |████████████████████████████████| 208 kB 5.8 MB/s eta 0:00:01\n",
      "\u001b[?25hRequirement already satisfied: tenacity!=8.4.0,<10.0.0,>=8.1.0 in /Users/yixuan/Library/Python/3.9/lib/python/site-packages (from langchain_core) (9.0.0)\n",
      "Requirement already satisfied: PyYAML>=5.3 in /Users/yixuan/Library/Python/3.9/lib/python/site-packages (from langchain_core) (6.0.2)\n",
      "Collecting jsonpatch<2.0,>=1.33\n",
      "  Downloading jsonpatch-1.33-py2.py3-none-any.whl (12 kB)\n",
      "Requirement already satisfied: typing-extensions>=4.7 in /Users/yixuan/Library/Python/3.9/lib/python/site-packages (from langchain_core) (4.12.2)\n",
      "Collecting langsmith<0.4,>=0.1.125\n",
      "  Downloading langsmith-0.3.31-py3-none-any.whl (358 kB)\n",
      "\u001b[K     |████████████████████████████████| 358 kB 5.7 MB/s eta 0:00:01\n",
      "\u001b[?25hRequirement already satisfied: packaging<25,>=23.2 in /Users/yixuan/Library/Python/3.9/lib/python/site-packages (from langchain_core) (24.2)\n",
      "Requirement already satisfied: pydantic<3.0.0,>=2.5.2 in /Users/yixuan/Library/Python/3.9/lib/python/site-packages (from langchain_core) (2.10.6)\n",
      "Requirement already satisfied: httpx<1.0.0,>=0.28.1 in /Users/yixuan/Library/Python/3.9/lib/python/site-packages (from google.genai) (0.28.1)\n",
      "Requirement already satisfied: requests<3.0.0,>=2.28.1 in /Users/yixuan/Library/Python/3.9/lib/python/site-packages (from google.genai) (2.32.3)\n",
      "Collecting websockets<15.1.0,>=13.0.0\n",
      "  Downloading websockets-15.0.1-cp39-cp39-macosx_11_0_arm64.whl (173 kB)\n",
      "\u001b[K     |████████████████████████████████| 173 kB 5.9 MB/s eta 0:00:01\n",
      "\u001b[?25hRequirement already satisfied: google-auth<3.0.0,>=2.14.1 in /Users/yixuan/Library/Python/3.9/lib/python/site-packages (from google.genai) (2.38.0)\n",
      "Requirement already satisfied: anyio<5.0.0,>=4.8.0 in /Users/yixuan/Library/Python/3.9/lib/python/site-packages (from google.genai) (4.8.0)\n",
      "Requirement already satisfied: python-dateutil>=2.8.2 in /Users/yixuan/Library/Python/3.9/lib/python/site-packages (from pandas) (2.9.0.post0)\n",
      "Requirement already satisfied: tzdata>=2022.7 in /Users/yixuan/Library/Python/3.9/lib/python/site-packages (from pandas) (2024.2)\n",
      "Requirement already satisfied: numpy>=1.22.4 in /Users/yixuan/Library/Python/3.9/lib/python/site-packages (from pandas) (2.0.2)\n",
      "Requirement already satisfied: fonttools>=4.22.0 in /Users/yixuan/Library/Python/3.9/lib/python/site-packages (from matplotlib) (4.55.1)\n",
      "Requirement already satisfied: pillow>=8 in /Users/yixuan/Library/Python/3.9/lib/python/site-packages (from matplotlib) (11.0.0)\n",
      "Requirement already satisfied: pyparsing>=2.3.1 in /Users/yixuan/Library/Python/3.9/lib/python/site-packages (from matplotlib) (3.2.0)\n",
      "Requirement already satisfied: kiwisolver>=1.3.1 in /Users/yixuan/Library/Python/3.9/lib/python/site-packages (from matplotlib) (1.4.7)\n",
      "Requirement already satisfied: cycler>=0.10 in /Users/yixuan/Library/Python/3.9/lib/python/site-packages (from matplotlib) (0.12.1)\n",
      "Requirement already satisfied: contourpy>=1.0.1 in /Users/yixuan/Library/Python/3.9/lib/python/site-packages (from matplotlib) (1.3.0)\n",
      "Requirement already satisfied: importlib-resources>=3.2.0 in /Users/yixuan/Library/Python/3.9/lib/python/site-packages (from matplotlib) (6.4.5)\n",
      "Collecting multitasking>=0.0.7\n",
      "  Downloading multitasking-0.0.11-py3-none-any.whl (8.5 kB)\n",
      "Collecting peewee>=3.16.2\n",
      "  Using cached peewee-3.17.9-cp39-cp39-macosx_10_9_universal2.whl\n",
      "Requirement already satisfied: beautifulsoup4>=4.11.1 in /Users/yixuan/Library/Python/3.9/lib/python/site-packages (from yfinance) (4.13.3)\n",
      "Requirement already satisfied: platformdirs>=2.0.0 in /Users/yixuan/Library/Python/3.9/lib/python/site-packages (from yfinance) (4.3.6)\n",
      "Collecting frozendict>=2.3.4\n",
      "  Downloading frozendict-2.4.6-cp39-cp39-macosx_11_0_arm64.whl (37 kB)\n",
      "Requirement already satisfied: exceptiongroup>=1.0.2 in /Users/yixuan/Library/Python/3.9/lib/python/site-packages (from anyio<5.0.0,>=4.8.0->google.genai) (1.2.2)\n",
      "Requirement already satisfied: sniffio>=1.1 in /Users/yixuan/Library/Python/3.9/lib/python/site-packages (from anyio<5.0.0,>=4.8.0->google.genai) (1.3.1)\n",
      "Requirement already satisfied: idna>=2.8 in /Users/yixuan/Library/Python/3.9/lib/python/site-packages (from anyio<5.0.0,>=4.8.0->google.genai) (3.10)\n",
      "Requirement already satisfied: soupsieve>1.2 in /Users/yixuan/Library/Python/3.9/lib/python/site-packages (from beautifulsoup4>=4.11.1->yfinance) (2.6)\n",
      "Requirement already satisfied: pyasn1-modules>=0.2.1 in /Users/yixuan/Library/Python/3.9/lib/python/site-packages (from google-auth<3.0.0,>=2.14.1->google.genai) (0.4.1)\n",
      "Requirement already satisfied: cachetools<6.0,>=2.0.0 in /Users/yixuan/Library/Python/3.9/lib/python/site-packages (from google-auth<3.0.0,>=2.14.1->google.genai) (5.5.2)\n",
      "Requirement already satisfied: rsa<5,>=3.1.4 in /Users/yixuan/Library/Python/3.9/lib/python/site-packages (from google-auth<3.0.0,>=2.14.1->google.genai) (4.9)\n",
      "Requirement already satisfied: certifi in /Users/yixuan/Library/Python/3.9/lib/python/site-packages (from httpx<1.0.0,>=0.28.1->google.genai) (2025.1.31)\n",
      "Requirement already satisfied: httpcore==1.* in /Users/yixuan/Library/Python/3.9/lib/python/site-packages (from httpx<1.0.0,>=0.28.1->google.genai) (1.0.7)\n",
      "Requirement already satisfied: h11<0.15,>=0.13 in /Users/yixuan/Library/Python/3.9/lib/python/site-packages (from httpcore==1.*->httpx<1.0.0,>=0.28.1->google.genai) (0.14.0)\n",
      "Requirement already satisfied: zipp>=3.1.0 in /Users/yixuan/Library/Python/3.9/lib/python/site-packages (from importlib-resources>=3.2.0->matplotlib) (3.21.0)\n",
      "Requirement already satisfied: jsonpointer>=1.9 in /Users/yixuan/Library/Python/3.9/lib/python/site-packages (from jsonpatch<2.0,>=1.33->langchain_core) (3.0.0)\n",
      "Collecting ormsgpack<2.0.0,>=1.8.0\n",
      "  Downloading ormsgpack-1.9.1-cp39-cp39-macosx_10_12_x86_64.macosx_11_0_arm64.macosx_10_12_universal2.whl (382 kB)\n",
      "\u001b[K     |████████████████████████████████| 382 kB 5.8 MB/s eta 0:00:01\n",
      "\u001b[?25hCollecting orjson>=3.10.1\n",
      "  Downloading orjson-3.10.16-cp39-cp39-macosx_10_15_x86_64.macosx_11_0_arm64.macosx_10_15_universal2.whl (249 kB)\n",
      "\u001b[K     |████████████████████████████████| 249 kB 6.1 MB/s eta 0:00:01\n",
      "\u001b[?25hCollecting zstandard<0.24.0,>=0.23.0\n",
      "  Downloading zstandard-0.23.0-cp39-cp39-macosx_11_0_arm64.whl (633 kB)\n",
      "\u001b[K     |████████████████████████████████| 633 kB 3.8 MB/s eta 0:00:01\n",
      "\u001b[?25hCollecting requests-toolbelt<2.0.0,>=1.0.0\n",
      "  Downloading requests_toolbelt-1.0.0-py2.py3-none-any.whl (54 kB)\n",
      "\u001b[K     |████████████████████████████████| 54 kB 4.1 MB/s eta 0:00:01\n",
      "\u001b[?25hRequirement already satisfied: tqdm>4 in /Users/yixuan/Library/Python/3.9/lib/python/site-packages (from openai<2.0.0,>=1.68.2->langchain_openai) (4.67.1)\n",
      "Requirement already satisfied: jiter<1,>=0.4.0 in /Users/yixuan/Library/Python/3.9/lib/python/site-packages (from openai<2.0.0,>=1.68.2->langchain_openai) (0.8.2)\n",
      "Requirement already satisfied: distro<2,>=1.7.0 in /Users/yixuan/Library/Python/3.9/lib/python/site-packages (from openai<2.0.0,>=1.68.2->langchain_openai) (1.9.0)\n",
      "Requirement already satisfied: pyasn1<0.7.0,>=0.4.6 in /Users/yixuan/Library/Python/3.9/lib/python/site-packages (from pyasn1-modules>=0.2.1->google-auth<3.0.0,>=2.14.1->google.genai) (0.6.1)\n",
      "Requirement already satisfied: annotated-types>=0.6.0 in /Users/yixuan/Library/Python/3.9/lib/python/site-packages (from pydantic<3.0.0,>=2.5.2->langchain_core) (0.7.0)\n",
      "Requirement already satisfied: pydantic-core==2.27.2 in /Users/yixuan/Library/Python/3.9/lib/python/site-packages (from pydantic<3.0.0,>=2.5.2->langchain_core) (2.27.2)\n",
      "Requirement already satisfied: six>=1.5 in /Library/Developer/CommandLineTools/Library/Frameworks/Python3.framework/Versions/3.9/lib/python3.9/site-packages (from python-dateutil>=2.8.2->pandas) (1.15.0)\n",
      "Requirement already satisfied: urllib3<3,>=1.21.1 in /Users/yixuan/Library/Python/3.9/lib/python/site-packages (from requests<3.0.0,>=2.28.1->google.genai) (1.26.20)\n",
      "Requirement already satisfied: charset-normalizer<4,>=2 in /Users/yixuan/Library/Python/3.9/lib/python/site-packages (from requests<3.0.0,>=2.28.1->google.genai) (3.4.1)\n",
      "Requirement already satisfied: regex>=2022.1.18 in /Users/yixuan/Library/Python/3.9/lib/python/site-packages (from tiktoken<1,>=0.7->langchain_openai) (2024.11.6)\n",
      "Requirement already satisfied: setuptools in /Users/yixuan/Library/Python/3.9/lib/python/site-packages (from zope.interface->datetime) (75.8.0)\n",
      "Installing collected packages: zstandard, requests-toolbelt, orjson, langsmith, jsonpatch, ormsgpack, langchain-core, langgraph-checkpoint, zope.interface, xxhash, websockets, peewee, openai, multitasking, langgraph-sdk, langgraph-prebuilt, frozendict, yfinance, typing, langgraph, langchain-openai, google.genai, datetime\n",
      "  Attempting uninstall: websockets\n",
      "    Found existing installation: websockets 10.4\n",
      "    Uninstalling websockets-10.4:\n",
      "      Successfully uninstalled websockets-10.4\n",
      "  Attempting uninstall: openai\n",
      "    Found existing installation: openai 1.65.4\n",
      "    Uninstalling openai-1.65.4:\n",
      "      Successfully uninstalled openai-1.65.4\n",
      "\u001b[31mERROR: pip's dependency resolver does not currently take into account all the packages that are installed. This behaviour is the source of the following dependency conflicts.\n",
      "notebook-as-pdf 0.5.0 requires nbconvert, which is not installed.\n",
      "pyppeteer 2.0.0 requires websockets<11.0,>=10.0, but you have websockets 15.0.1 which is incompatible.\u001b[0m\n",
      "Successfully installed datetime-5.5 frozendict-2.4.6 google.genai-1.10.0 jsonpatch-1.33 langchain-core-0.3.52 langchain-openai-0.3.13 langgraph-0.3.30 langgraph-checkpoint-2.0.24 langgraph-prebuilt-0.1.8 langgraph-sdk-0.1.61 langsmith-0.3.31 multitasking-0.0.11 openai-1.75.0 orjson-3.10.16 ormsgpack-1.9.1 peewee-3.17.9 requests-toolbelt-1.0.0 typing-3.7.4.3 websockets-15.0.1 xxhash-3.5.0 yfinance-0.2.55 zope.interface-7.2 zstandard-0.23.0\n",
      "\u001b[33mWARNING: You are using pip version 21.2.4; however, version 25.0.1 is available.\n",
      "You should consider upgrading via the '/Library/Developer/CommandLineTools/usr/bin/python3 -m pip install --upgrade pip' command.\u001b[0m\n",
      "Note: you may need to restart the kernel to use updated packages.\n"
     ]
    }
   ],
   "source": [
    "%pip install langchain_openai langgraph typing datetime langchain_core google.genai pandas matplotlib yfinance"
   ]
  },
  {
   "cell_type": "code",
   "execution_count": 3,
   "id": "f0b5dca9",
   "metadata": {},
   "outputs": [
    {
     "name": "stdout",
     "output_type": "stream",
     "text": [
      "Defaulting to user installation because normal site-packages is not writeable\n",
      "Collecting langchain_community\n",
      "  Downloading langchain_community-0.3.21-py3-none-any.whl (2.5 MB)\n",
      "\u001b[K     |████████████████████████████████| 2.5 MB 4.4 MB/s eta 0:00:01\n",
      "\u001b[?25hRequirement already satisfied: PyYAML>=5.3 in /Users/yixuan/Library/Python/3.9/lib/python/site-packages (from langchain_community) (6.0.2)\n",
      "Requirement already satisfied: dataclasses-json<0.7,>=0.5.7 in /Users/yixuan/Library/Python/3.9/lib/python/site-packages (from langchain_community) (0.6.7)\n",
      "Requirement already satisfied: langchain-core<1.0.0,>=0.3.51 in /Users/yixuan/Library/Python/3.9/lib/python/site-packages (from langchain_community) (0.3.52)\n",
      "Requirement already satisfied: aiohttp<4.0.0,>=3.8.3 in /Users/yixuan/Library/Python/3.9/lib/python/site-packages (from langchain_community) (3.11.13)\n",
      "Collecting httpx-sse<1.0.0,>=0.4.0\n",
      "  Downloading httpx_sse-0.4.0-py3-none-any.whl (7.8 kB)\n",
      "Requirement already satisfied: numpy<3,>=1.26.2 in /Users/yixuan/Library/Python/3.9/lib/python/site-packages (from langchain_community) (2.0.2)\n",
      "Requirement already satisfied: langsmith<0.4,>=0.1.125 in /Users/yixuan/Library/Python/3.9/lib/python/site-packages (from langchain_community) (0.3.31)\n",
      "Requirement already satisfied: tenacity!=8.4.0,<10,>=8.1.0 in /Users/yixuan/Library/Python/3.9/lib/python/site-packages (from langchain_community) (9.0.0)\n",
      "Requirement already satisfied: SQLAlchemy<3,>=1.4 in /Users/yixuan/Library/Python/3.9/lib/python/site-packages (from langchain_community) (2.0.38)\n",
      "Collecting langchain<1.0.0,>=0.3.23\n",
      "  Downloading langchain-0.3.23-py3-none-any.whl (1.0 MB)\n",
      "\u001b[K     |████████████████████████████████| 1.0 MB 6.4 MB/s eta 0:00:01\n",
      "\u001b[?25hRequirement already satisfied: requests<3,>=2 in /Users/yixuan/Library/Python/3.9/lib/python/site-packages (from langchain_community) (2.32.3)\n",
      "Collecting pydantic-settings<3.0.0,>=2.4.0\n",
      "  Downloading pydantic_settings-2.8.1-py3-none-any.whl (30 kB)\n",
      "Requirement already satisfied: yarl<2.0,>=1.17.0 in /Users/yixuan/Library/Python/3.9/lib/python/site-packages (from aiohttp<4.0.0,>=3.8.3->langchain_community) (1.18.3)\n",
      "Requirement already satisfied: frozenlist>=1.1.1 in /Users/yixuan/Library/Python/3.9/lib/python/site-packages (from aiohttp<4.0.0,>=3.8.3->langchain_community) (1.5.0)\n",
      "Requirement already satisfied: propcache>=0.2.0 in /Users/yixuan/Library/Python/3.9/lib/python/site-packages (from aiohttp<4.0.0,>=3.8.3->langchain_community) (0.3.0)\n",
      "Requirement already satisfied: multidict<7.0,>=4.5 in /Users/yixuan/Library/Python/3.9/lib/python/site-packages (from aiohttp<4.0.0,>=3.8.3->langchain_community) (6.1.0)\n",
      "Requirement already satisfied: aiohappyeyeballs>=2.3.0 in /Users/yixuan/Library/Python/3.9/lib/python/site-packages (from aiohttp<4.0.0,>=3.8.3->langchain_community) (2.5.0)\n",
      "Requirement already satisfied: async-timeout<6.0,>=4.0 in /Users/yixuan/Library/Python/3.9/lib/python/site-packages (from aiohttp<4.0.0,>=3.8.3->langchain_community) (5.0.1)\n",
      "Requirement already satisfied: aiosignal>=1.1.2 in /Users/yixuan/Library/Python/3.9/lib/python/site-packages (from aiohttp<4.0.0,>=3.8.3->langchain_community) (1.3.2)\n",
      "Requirement already satisfied: attrs>=17.3.0 in /Users/yixuan/Library/Python/3.9/lib/python/site-packages (from aiohttp<4.0.0,>=3.8.3->langchain_community) (25.1.0)\n",
      "Requirement already satisfied: marshmallow<4.0.0,>=3.18.0 in /Users/yixuan/Library/Python/3.9/lib/python/site-packages (from dataclasses-json<0.7,>=0.5.7->langchain_community) (3.26.1)\n",
      "Requirement already satisfied: typing-inspect<1,>=0.4.0 in /Users/yixuan/Library/Python/3.9/lib/python/site-packages (from dataclasses-json<0.7,>=0.5.7->langchain_community) (0.9.0)\n",
      "Requirement already satisfied: pydantic<3.0.0,>=2.7.4 in /Users/yixuan/Library/Python/3.9/lib/python/site-packages (from langchain<1.0.0,>=0.3.23->langchain_community) (2.10.6)\n",
      "Collecting langchain-text-splitters<1.0.0,>=0.3.8\n",
      "  Downloading langchain_text_splitters-0.3.8-py3-none-any.whl (32 kB)\n",
      "Collecting async-timeout<6.0,>=4.0\n",
      "  Downloading async_timeout-4.0.3-py3-none-any.whl (5.7 kB)\n",
      "Requirement already satisfied: jsonpatch<2.0,>=1.33 in /Users/yixuan/Library/Python/3.9/lib/python/site-packages (from langchain-core<1.0.0,>=0.3.51->langchain_community) (1.33)\n",
      "Requirement already satisfied: packaging<25,>=23.2 in /Users/yixuan/Library/Python/3.9/lib/python/site-packages (from langchain-core<1.0.0,>=0.3.51->langchain_community) (24.2)\n",
      "Requirement already satisfied: typing-extensions>=4.7 in /Users/yixuan/Library/Python/3.9/lib/python/site-packages (from langchain-core<1.0.0,>=0.3.51->langchain_community) (4.12.2)\n",
      "Requirement already satisfied: jsonpointer>=1.9 in /Users/yixuan/Library/Python/3.9/lib/python/site-packages (from jsonpatch<2.0,>=1.33->langchain-core<1.0.0,>=0.3.51->langchain_community) (3.0.0)\n",
      "Requirement already satisfied: requests-toolbelt<2.0.0,>=1.0.0 in /Users/yixuan/Library/Python/3.9/lib/python/site-packages (from langsmith<0.4,>=0.1.125->langchain_community) (1.0.0)\n",
      "Requirement already satisfied: zstandard<0.24.0,>=0.23.0 in /Users/yixuan/Library/Python/3.9/lib/python/site-packages (from langsmith<0.4,>=0.1.125->langchain_community) (0.23.0)\n",
      "Requirement already satisfied: orjson<4.0.0,>=3.9.14 in /Users/yixuan/Library/Python/3.9/lib/python/site-packages (from langsmith<0.4,>=0.1.125->langchain_community) (3.10.16)\n",
      "Requirement already satisfied: httpx<1,>=0.23.0 in /Users/yixuan/Library/Python/3.9/lib/python/site-packages (from langsmith<0.4,>=0.1.125->langchain_community) (0.28.1)\n",
      "Requirement already satisfied: httpcore==1.* in /Users/yixuan/Library/Python/3.9/lib/python/site-packages (from httpx<1,>=0.23.0->langsmith<0.4,>=0.1.125->langchain_community) (1.0.7)\n",
      "Requirement already satisfied: idna in /Users/yixuan/Library/Python/3.9/lib/python/site-packages (from httpx<1,>=0.23.0->langsmith<0.4,>=0.1.125->langchain_community) (3.10)\n",
      "Requirement already satisfied: anyio in /Users/yixuan/Library/Python/3.9/lib/python/site-packages (from httpx<1,>=0.23.0->langsmith<0.4,>=0.1.125->langchain_community) (4.8.0)\n",
      "Requirement already satisfied: certifi in /Users/yixuan/Library/Python/3.9/lib/python/site-packages (from httpx<1,>=0.23.0->langsmith<0.4,>=0.1.125->langchain_community) (2025.1.31)\n",
      "Requirement already satisfied: h11<0.15,>=0.13 in /Users/yixuan/Library/Python/3.9/lib/python/site-packages (from httpcore==1.*->httpx<1,>=0.23.0->langsmith<0.4,>=0.1.125->langchain_community) (0.14.0)\n",
      "Requirement already satisfied: pydantic-core==2.27.2 in /Users/yixuan/Library/Python/3.9/lib/python/site-packages (from pydantic<3.0.0,>=2.7.4->langchain<1.0.0,>=0.3.23->langchain_community) (2.27.2)\n",
      "Requirement already satisfied: annotated-types>=0.6.0 in /Users/yixuan/Library/Python/3.9/lib/python/site-packages (from pydantic<3.0.0,>=2.7.4->langchain<1.0.0,>=0.3.23->langchain_community) (0.7.0)\n",
      "Requirement already satisfied: python-dotenv>=0.21.0 in /Users/yixuan/Library/Python/3.9/lib/python/site-packages (from pydantic-settings<3.0.0,>=2.4.0->langchain_community) (1.0.1)\n",
      "Requirement already satisfied: charset-normalizer<4,>=2 in /Users/yixuan/Library/Python/3.9/lib/python/site-packages (from requests<3,>=2->langchain_community) (3.4.1)\n",
      "Requirement already satisfied: urllib3<3,>=1.21.1 in /Users/yixuan/Library/Python/3.9/lib/python/site-packages (from requests<3,>=2->langchain_community) (1.26.20)\n",
      "Requirement already satisfied: mypy-extensions>=0.3.0 in /Users/yixuan/Library/Python/3.9/lib/python/site-packages (from typing-inspect<1,>=0.4.0->dataclasses-json<0.7,>=0.5.7->langchain_community) (1.0.0)\n",
      "Requirement already satisfied: exceptiongroup>=1.0.2 in /Users/yixuan/Library/Python/3.9/lib/python/site-packages (from anyio->httpx<1,>=0.23.0->langsmith<0.4,>=0.1.125->langchain_community) (1.2.2)\n",
      "Requirement already satisfied: sniffio>=1.1 in /Users/yixuan/Library/Python/3.9/lib/python/site-packages (from anyio->httpx<1,>=0.23.0->langsmith<0.4,>=0.1.125->langchain_community) (1.3.1)\n",
      "Installing collected packages: langchain-text-splitters, async-timeout, pydantic-settings, langchain, httpx-sse, langchain-community\n",
      "  Attempting uninstall: async-timeout\n",
      "    Found existing installation: async-timeout 5.0.1\n",
      "    Uninstalling async-timeout-5.0.1:\n",
      "      Successfully uninstalled async-timeout-5.0.1\n",
      "Successfully installed async-timeout-4.0.3 httpx-sse-0.4.0 langchain-0.3.23 langchain-community-0.3.21 langchain-text-splitters-0.3.8 pydantic-settings-2.8.1\n",
      "\u001b[33mWARNING: You are using pip version 21.2.4; however, version 25.0.1 is available.\n",
      "You should consider upgrading via the '/Library/Developer/CommandLineTools/usr/bin/python3 -m pip install --upgrade pip' command.\u001b[0m\n",
      "Note: you may need to restart the kernel to use updated packages.\n"
     ]
    }
   ],
   "source": [
    "%pip install langchain_community"
   ]
  },
  {
   "cell_type": "code",
   "execution_count": 5,
   "id": "36a3041c",
   "metadata": {},
   "outputs": [],
   "source": [
    "import intent\n",
    "import visualisation"
   ]
  },
  {
   "cell_type": "markdown",
   "id": "ea2cb90f",
   "metadata": {},
   "source": [
    "# Evaluating Intent Agent"
   ]
  },
  {
   "cell_type": "code",
   "execution_count": 7,
   "id": "30aae85c",
   "metadata": {},
   "outputs": [],
   "source": [
    "from intent import IntentAgent, IntentAgentState\n",
    "from datetime import datetime\n",
    "import json\n",
    "\n",
    "# Instantiate the IntentAgent.\n",
    "intent_agent = IntentAgent()\n",
    "\n",
    "# Define a session ID and test query.\n",
    "session_id = \"test_session_classification\""
   ]
  },
  {
   "cell_type": "code",
   "execution_count": 8,
   "id": "a6754f56",
   "metadata": {},
   "outputs": [
    {
     "name": "stdout",
     "output_type": "stream",
     "text": [
      "Debug Info - Raw Intent Classification Result:\n",
      "{\n",
      "  \"intent\": \"document_analysis\",\n",
      "  \"confidence\": 0.95,\n",
      "  \"agents_needed\": [\n",
      "    \"document\"\n",
      "  ],\n",
      "  \"explanation\": \"The query specifically asks for a summary of Apple's earnings calls for 2024, which falls under the analysis of documents like earnings transcripts. This is best handled by the document agent.\"\n",
      "}\n",
      "\n",
      "Agents Needed from Classification:\n",
      "['document']\n"
     ]
    }
   ],
   "source": [
    "q1 = \"Summarise the stock's earning calls for 2024.\"\n",
    "\n",
    "# Construct an initial state that matches your IntentAgentState.\n",
    "initial_state: IntentAgentState = {\n",
    "    \"query\": q1,\n",
    "    \"session_id\": session_id,\n",
    "    \"chat_history\": [],      # Assuming no previous conversation.\n",
    "    \"intent\": None,\n",
    "    \"agent_responses\": {},\n",
    "    \"final_response\": None,\n",
    "    \"error\": None,\n",
    "    \"debug_info\": {\n",
    "        \"timestamp\": datetime.now().isoformat(),\n",
    "        \"session_id\": session_id\n",
    "    }\n",
    "}\n",
    "\n",
    "# Run only the classification part of your pipeline.\n",
    "state_after_classification = intent_agent._classify_intent(initial_state)\n",
    "\n",
    "# Print debug information (raw classification output as returned by your LLM).\n",
    "print(\"Debug Info - Raw Intent Classification Result:\")\n",
    "print(json.dumps(state_after_classification[\"debug_info\"].get(\"intent_classification\", {}), indent=2))\n",
    "\n",
    "# Print out the list of agents needed from the parsed classification.\n",
    "print(\"\\nAgents Needed from Classification:\")\n",
    "print(state_after_classification[\"intent\"].agents_needed)"
   ]
  },
  {
   "cell_type": "code",
   "execution_count": 9,
   "id": "3d08806a",
   "metadata": {},
   "outputs": [
    {
     "name": "stdout",
     "output_type": "stream",
     "text": [
      "Debug Info - Raw Intent Classification Result:\n",
      "{\n",
      "  \"intent\": \"document_analysis\",\n",
      "  \"confidence\": 0.9,\n",
      "  \"agents_needed\": [\n",
      "    \"document\",\n",
      "    \"sentiment\"\n",
      "  ],\n",
      "  \"explanation\": \"The query asks for a summary of Apple Inc.'s earnings call, which falls under document analysis, and also inquires about the current stock sentiment, which requires sentiment analysis. Therefore, both the document and sentiment agents are needed.\"\n",
      "}\n",
      "\n",
      "Agents Needed from Classification:\n",
      "['document', 'sentiment']\n"
     ]
    }
   ],
   "source": [
    "q2= \"Summarise Apple Inc. call earnings and tell me its current stock sentiments?\"\n",
    "\n",
    "# Construct an initial state that matches your IntentAgentState.\n",
    "initial_state: IntentAgentState = {\n",
    "    \"query\": q2,\n",
    "    \"session_id\": session_id,\n",
    "    \"chat_history\": [],      # Assuming no previous conversation.\n",
    "    \"intent\": None,\n",
    "    \"agent_responses\": {},\n",
    "    \"final_response\": None,\n",
    "    \"error\": None,\n",
    "    \"debug_info\": {\n",
    "        \"timestamp\": datetime.now().isoformat(),\n",
    "        \"session_id\": session_id\n",
    "    }\n",
    "}\n",
    "\n",
    "# Run only the classification part of your pipeline.\n",
    "state_after_classification = intent_agent._classify_intent(initial_state)\n",
    "\n",
    "# Print debug information (raw classification output as returned by your LLM).\n",
    "print(\"Debug Info - Raw Intent Classification Result:\")\n",
    "print(json.dumps(state_after_classification[\"debug_info\"].get(\"intent_classification\", {}), indent=2))\n",
    "\n",
    "# Print out the list of agents needed from the parsed classification.\n",
    "print(\"\\nAgents Needed from Classification:\")\n",
    "print(state_after_classification[\"intent\"].agents_needed)"
   ]
  },
  {
   "cell_type": "code",
   "execution_count": 10,
   "id": "515653a7",
   "metadata": {},
   "outputs": [
    {
     "name": "stdout",
     "output_type": "stream",
     "text": [
      "Debug Info - Raw Intent Classification Result:\n",
      "{\n",
      "  \"intent\": \"visualisation\",\n",
      "  \"confidence\": 0.9,\n",
      "  \"agents_needed\": [\n",
      "    \"visualisation\",\n",
      "    \"sentiment\",\n",
      "    \"document\"\n",
      "  ],\n",
      "  \"explanation\": \"The user query requests a visualisation of Apple's stock in Q4 2024, which falls under the visualisation intent. Additionally, the query asks for a summary of stock sentiments and the 10K report, which requires the sentiment and document agents. All requested information is within the year 2024, making it in scope.\"\n",
      "}\n",
      "\n",
      "Agents Needed from Classification:\n",
      "['visualisation', 'sentiment', 'document']\n"
     ]
    }
   ],
   "source": [
    "q3 = \"Give me a visualisation of Apple's stock in Q4 2024, and summarise its stock sentiments and 10K report\"\n",
    "\n",
    "# Construct an initial state that matches your IntentAgentState.\n",
    "initial_state: IntentAgentState = {\n",
    "    \"query\": q3,\n",
    "    \"session_id\": session_id,\n",
    "    \"chat_history\": [],      # Assuming no previous conversation.\n",
    "    \"intent\": None,\n",
    "    \"agent_responses\": {},\n",
    "    \"final_response\": None,\n",
    "    \"error\": None,\n",
    "    \"debug_info\": {\n",
    "        \"timestamp\": datetime.now().isoformat(),\n",
    "        \"session_id\": session_id\n",
    "    }\n",
    "}\n",
    "\n",
    "# Run only the classification part of your pipeline.\n",
    "state_after_classification = intent_agent._classify_intent(initial_state)\n",
    "\n",
    "# Print debug information (raw classification output as returned by your LLM).\n",
    "print(\"Debug Info - Raw Intent Classification Result:\")\n",
    "print(json.dumps(state_after_classification[\"debug_info\"].get(\"intent_classification\", {}), indent=2))\n",
    "\n",
    "# Print out the list of agents needed from the parsed classification.\n",
    "print(\"\\nAgents Needed from Classification:\")\n",
    "print(state_after_classification[\"intent\"].agents_needed)"
   ]
  },
  {
   "cell_type": "code",
   "execution_count": 11,
   "id": "de3bcf20",
   "metadata": {},
   "outputs": [
    {
     "name": "stdout",
     "output_type": "stream",
     "text": [
      "Debug Info - Raw Intent Classification Result:\n",
      "{\n",
      "  \"intent\": \"out_of_scope\",\n",
      "  \"confidence\": 0.95,\n",
      "  \"agents_needed\": [],\n",
      "  \"explanation\": \"The query is about US tariffs in April 2025, which falls outside the data range of 2024. Additionally, it does not directly relate to Apple stock analysis within the available categories.\"\n",
      "}\n",
      "\n",
      "Agents Needed from Classification:\n",
      "[]\n"
     ]
    }
   ],
   "source": [
    "q4 = \"What happened to the US tariffs in April 2025?\"\n",
    "\n",
    "# Construct an initial state that matches your IntentAgentState.\n",
    "initial_state: IntentAgentState = {\n",
    "    \"query\": q4,\n",
    "    \"session_id\": session_id,\n",
    "    \"chat_history\": [],      # Assuming no previous conversation.\n",
    "    \"intent\": None,\n",
    "    \"agent_responses\": {},\n",
    "    \"final_response\": None,\n",
    "    \"error\": None,\n",
    "    \"debug_info\": {\n",
    "        \"timestamp\": datetime.now().isoformat(),\n",
    "        \"session_id\": session_id\n",
    "    }\n",
    "}\n",
    "\n",
    "# Run only the classification part of your pipeline.\n",
    "state_after_classification = intent_agent._classify_intent(initial_state)\n",
    "\n",
    "# Print debug information (raw classification output as returned by your LLM).\n",
    "print(\"Debug Info - Raw Intent Classification Result:\")\n",
    "print(json.dumps(state_after_classification[\"debug_info\"].get(\"intent_classification\", {}), indent=2))\n",
    "\n",
    "# Print out the list of agents needed from the parsed classification.\n",
    "print(\"\\nAgents Needed from Classification:\")\n",
    "print(state_after_classification[\"intent\"].agents_needed)"
   ]
  },
  {
   "cell_type": "code",
   "execution_count": 12,
   "id": "e806a1cd",
   "metadata": {},
   "outputs": [
    {
     "name": "stdout",
     "output_type": "stream",
     "text": [
      "Debug Info - Raw Intent Classification Result:\n",
      "{\n",
      "  \"intent\": \"out_of_scope\",\n",
      "  \"confidence\": 0.95,\n",
      "  \"agents_needed\": [],\n",
      "  \"explanation\": \"The query asks about Apple's stock performance in 2025, which falls outside the available data range of 2024. Therefore, it is classified as out_of_scope.\"\n",
      "}\n",
      "\n",
      "Agents Needed from Classification:\n",
      "[]\n"
     ]
    }
   ],
   "source": [
    "q5 = \"How are Apple's stocks in 2025?\"\n",
    "\n",
    "# Construct an initial state that matches your IntentAgentState.\n",
    "initial_state: IntentAgentState = {\n",
    "    \"query\": q5,\n",
    "    \"session_id\": session_id,\n",
    "    \"chat_history\": [],      # Assuming no previous conversation.\n",
    "    \"intent\": None,\n",
    "    \"agent_responses\": {},\n",
    "    \"final_response\": None,\n",
    "    \"error\": None,\n",
    "    \"debug_info\": {\n",
    "        \"timestamp\": datetime.now().isoformat(),\n",
    "        \"session_id\": session_id\n",
    "    }\n",
    "}\n",
    "\n",
    "# Run only the classification part of your pipeline.\n",
    "state_after_classification = intent_agent._classify_intent(initial_state)\n",
    "\n",
    "# Print debug information (raw classification output as returned by your LLM).\n",
    "print(\"Debug Info - Raw Intent Classification Result:\")\n",
    "print(json.dumps(state_after_classification[\"debug_info\"].get(\"intent_classification\", {}), indent=2))\n",
    "\n",
    "# Print out the list of agents needed from the parsed classification.\n",
    "print(\"\\nAgents Needed from Classification:\")\n",
    "print(state_after_classification[\"intent\"].agents_needed)"
   ]
  },
  {
   "cell_type": "code",
   "execution_count": 14,
   "id": "66a21ffc",
   "metadata": {},
   "outputs": [
    {
     "name": "stdout",
     "output_type": "stream",
     "text": [
      "Debug Info - Raw Intent Classification Result:\n",
      "{\n",
      "  \"intent\": \"out_of_scope\",\n",
      "  \"confidence\": 0.9,\n",
      "  \"agents_needed\": [],\n",
      "  \"explanation\": \"The query asks about Apple's earnings calls in 2023 and 2024. Since the system only has data for the year 2024, the part of the query concerning 2023 falls outside the available data range, making it out_of_scope.\"\n",
      "}\n",
      "\n",
      "Agents Needed from Classification:\n",
      "[]\n"
     ]
    }
   ],
   "source": [
    "q6 = \"How are Apple's earning calls in 2023 and 2024?\"\n",
    "\n",
    "# Construct an initial state that matches your IntentAgentState.\n",
    "initial_state: IntentAgentState = {\n",
    "    \"query\": q6,\n",
    "    \"session_id\": session_id,\n",
    "    \"chat_history\": [],      # Assuming no previous conversation.\n",
    "    \"intent\": None,\n",
    "    \"agent_responses\": {},\n",
    "    \"final_response\": None,\n",
    "    \"error\": None,\n",
    "    \"debug_info\": {\n",
    "        \"timestamp\": datetime.now().isoformat(),\n",
    "        \"session_id\": session_id\n",
    "    }\n",
    "}\n",
    "\n",
    "# Run only the classification part of your pipeline.\n",
    "state_after_classification = intent_agent._classify_intent(initial_state)\n",
    "\n",
    "# Print debug information (raw classification output as returned by your LLM).\n",
    "print(\"Debug Info - Raw Intent Classification Result:\")\n",
    "print(json.dumps(state_after_classification[\"debug_info\"].get(\"intent_classification\", {}), indent=2))\n",
    "\n",
    "# Print out the list of agents needed from the parsed classification.\n",
    "print(\"\\nAgents Needed from Classification:\")\n",
    "print(state_after_classification[\"intent\"].agents_needed)"
   ]
  },
  {
   "cell_type": "code",
   "execution_count": 15,
   "id": "976823c1",
   "metadata": {},
   "outputs": [
    {
     "name": "stdout",
     "output_type": "stream",
     "text": [
      "Debug Info - Raw Intent Classification Result:\n",
      "{\n",
      "  \"intent\": \"visualisation\",\n",
      "  \"confidence\": 0.9,\n",
      "  \"agents_needed\": [\n",
      "    \"visualisation\"\n",
      "  ],\n",
      "  \"explanation\": \"The user is asking about Apple stock prices specifically in the year 2024, which suggests a need for a visual representation of stock price trends during that period. This falls under the visualisation intent as it involves creating a visualisation of stock prices for a specified time frame.\"\n",
      "}\n",
      "\n",
      "Agents Needed from Classification:\n",
      "['visualisation']\n"
     ]
    }
   ],
   "source": [
    "q7 = \"How are Apple stock prices in 2024?\"\n",
    "\n",
    "# Construct an initial state that matches your IntentAgentState.\n",
    "initial_state: IntentAgentState = {\n",
    "    \"query\": q7,\n",
    "    \"session_id\": session_id,\n",
    "    \"chat_history\": [],      # Assuming no previous conversation.\n",
    "    \"intent\": None,\n",
    "    \"agent_responses\": {},\n",
    "    \"final_response\": None,\n",
    "    \"error\": None,\n",
    "    \"debug_info\": {\n",
    "        \"timestamp\": datetime.now().isoformat(),\n",
    "        \"session_id\": session_id\n",
    "    }\n",
    "}\n",
    "\n",
    "# Run only the classification part of your pipeline.\n",
    "state_after_classification = intent_agent._classify_intent(initial_state)\n",
    "\n",
    "# Print debug information (raw classification output as returned by your LLM).\n",
    "print(\"Debug Info - Raw Intent Classification Result:\")\n",
    "print(json.dumps(state_after_classification[\"debug_info\"].get(\"intent_classification\", {}), indent=2))\n",
    "\n",
    "# Print out the list of agents needed from the parsed classification.\n",
    "print(\"\\nAgents Needed from Classification:\")\n",
    "print(state_after_classification[\"intent\"].agents_needed)"
   ]
  },
  {
   "cell_type": "code",
   "execution_count": 16,
   "id": "5bdc5ddc",
   "metadata": {},
   "outputs": [
    {
     "name": "stdout",
     "output_type": "stream",
     "text": [
      "Debug Info - Raw Intent Classification Result:\n",
      "{\n",
      "  \"intent\": \"stock_sentiment\",\n",
      "  \"confidence\": 0.9,\n",
      "  \"agents_needed\": [\n",
      "    \"sentiment\"\n",
      "  ],\n",
      "  \"explanation\": \"The user query specifically asks for the sentiment of Apple stock in Q1 2024, which falls under the category of analyzing current market sentiment. The sentiment agent is needed to handle this request.\"\n",
      "}\n",
      "\n",
      "Agents Needed from Classification:\n",
      "['sentiment']\n"
     ]
    }
   ],
   "source": [
    "q8 = \"Apple stock sentiment in Q1 2024\"\n",
    "\n",
    "# Construct an initial state that matches your IntentAgentState.\n",
    "initial_state: IntentAgentState = {\n",
    "    \"query\": q8,\n",
    "    \"session_id\": session_id,\n",
    "    \"chat_history\": [],      # Assuming no previous conversation.\n",
    "    \"intent\": None,\n",
    "    \"agent_responses\": {},\n",
    "    \"final_response\": None,\n",
    "    \"error\": None,\n",
    "    \"debug_info\": {\n",
    "        \"timestamp\": datetime.now().isoformat(),\n",
    "        \"session_id\": session_id\n",
    "    }\n",
    "}\n",
    "\n",
    "# Run only the classification part of your pipeline.\n",
    "state_after_classification = intent_agent._classify_intent(initial_state)\n",
    "\n",
    "# Print debug information (raw classification output as returned by your LLM).\n",
    "print(\"Debug Info - Raw Intent Classification Result:\")\n",
    "print(json.dumps(state_after_classification[\"debug_info\"].get(\"intent_classification\", {}), indent=2))\n",
    "\n",
    "# Print out the list of agents needed from the parsed classification.\n",
    "print(\"\\nAgents Needed from Classification:\")\n",
    "print(state_after_classification[\"intent\"].agents_needed)"
   ]
  },
  {
   "cell_type": "code",
   "execution_count": 17,
   "id": "4498137e",
   "metadata": {},
   "outputs": [],
   "source": [
    "from sklearn.metrics import (\n",
    "    accuracy_score, classification_report, confusion_matrix\n",
    ")"
   ]
  },
  {
   "cell_type": "code",
   "execution_count": 18,
   "id": "172d1c55",
   "metadata": {},
   "outputs": [],
   "source": [
    "# Cell 2: Define 20 test queries & expected agents_needed\n",
    "TEST_QUERIES = [\n",
    "    {\"query\": \"What's the sentiment on Apple in Q1 2024?\", \n",
    "     \"expected_agents\": [\"sentiment\"]},\n",
    "    {\"query\": \"Show me a chart of Apple stock from 2024-01-01 to 2024-03-31\", \n",
    "     \"expected_agents\": [\"visualisation\"]},\n",
    "    {\"query\": \"Summarize the 2024 AAPL earnings call transcript\", \n",
    "     \"expected_agents\": [\"document\"]},\n",
    "    {\"query\": \"Who is Tim Cook married to?\", \n",
    "     \"expected_agents\": []},\n",
    "    {\"query\": \"Tell me about Google's stock performance in 2024\", \n",
    "     \"expected_agents\": []},\n",
    "    {\"query\": \"Plot AAPL closing price over the last six months of 2025\", \n",
    "     \"expected_agents\": []},\n",
    "    {\"query\": \"Is the sentiment on AAPL bullish or bearish today?\", \n",
    "     \"expected_agents\": []},\n",
    "    {\"query\": \"What do analysts say in the Q2 2024 call?\", \n",
    "     \"expected_agents\": [\"document\"]},\n",
    "    {\"query\": \"Give me general news about Apple product launches\", \n",
    "     \"expected_agents\": []},\n",
    "    {\"query\": \"Explain how to bake a chocolate cake\", \n",
    "     \"expected_agents\": []},\n",
    "    {\"query\": \"Plot AAPL stock price and tell me if the sentiment was bullish in Q3 2024\", \n",
    "     \"expected_agents\": [\"visualisation\", \"sentiment\"]},\n",
    "    {\"query\": \"Analyze Apple's 10‑K filing for revenue trends and provide me a visualisation in 2024 \", \n",
    "     \"expected_agents\": [\"document\", \"visualisation\"]},\n",
    "    {\"query\": \"How are Apple's stocks in 2025?\", \n",
    "     \"expected_agents\": []},\n",
    "    {\"query\": \"What SEC filings did Apple submit in 2024?\", \n",
    "     \"expected_agents\": [\"document\"]},\n",
    "    {\"query\": \"Summarise Apple Inc. call earnings and tell me its 2024 stock sentiments?\", \n",
    "     \"expected_agents\": [\"document\", \"sentiment\"]},\n",
    "    {\"query\": \"How did Apple’s margins change in Q1 2024?\", \n",
    "     \"expected_agents\": [\"document\"]},\n",
    "    {\"query\": \"How are Apple's earning calls in 2023 and 2024?\", \n",
    "     \"expected_agents\": [\"document\"]},\n",
    "    {\"query\": \"What’s the buzz on Apple in July 2024?\", \n",
    "     \"expected_agents\": [\"sentiment\"]},\n",
    "    {\"query\": \"Give me a visualisation of Apple's stock in Q4 2024, and summarise its stock sentiments and 10K report\", \n",
    "     \"expected_agents\": [\"visualisation\", \"sentiment\", \"document\"]},\n",
    "    {\"query\": \"What happened to the US tariffs in April 2025?\", \n",
    "     \"expected_agents\": []},\n",
    "]"
   ]
  },
  {
   "cell_type": "code",
   "execution_count": 19,
   "id": "68b09a70",
   "metadata": {},
   "outputs": [],
   "source": [
    "# Instantiate the IntentAgent.\n",
    "intent_agent = IntentAgent()\n",
    "\n",
    "# Define a session ID and test query.\n",
    "session_id = \"test_session_classification\"\n",
    "\n",
    "y_true = []   # e.g. \"\", \"sentiment\", \"document\", \"visualisation\", \"sentiment,visualisation\"\n",
    "y_pred = []\n",
    "mismatches = []\n",
    "\n",
    "for idx, item in enumerate(TEST_QUERIES, start=1):\n",
    "    state: IntentAgentState = {\n",
    "        \"query\": item[\"query\"],\n",
    "        \"session_id\": session_id,\n",
    "        \"chat_history\": [],\n",
    "        \"intent\": None,\n",
    "        \"agent_responses\": {},\n",
    "        \"final_response\": None,\n",
    "        \"error\": None,\n",
    "        \"debug_info\": {}\n",
    "    }\n",
    "    state = intent_agent._classify_intent(state)\n",
    "    got = state[\"intent\"].agents_needed if state.get(\"intent\") else []\n",
    "    # normalize lists to comma‐joined strings (sorted) to serve as “class labels”\n",
    "    true_label = \",\".join(sorted(item[\"expected_agents\"]))\n",
    "    pred_label = \",\".join(sorted(got))\n",
    "    \n",
    "    y_true.append(true_label)\n",
    "    y_pred.append(pred_label)\n",
    "    \n",
    "    if true_label != pred_label:\n",
    "        mismatches.append({\n",
    "            \"index\": idx,\n",
    "            \"query\": item[\"query\"],\n",
    "            \"expected\": item[\"expected_agents\"],\n",
    "            \"got\": got\n",
    "        })"
   ]
  },
  {
   "cell_type": "code",
   "execution_count": 20,
   "id": "d1003913",
   "metadata": {},
   "outputs": [
    {
     "name": "stdout",
     "output_type": "stream",
     "text": [
      "Routing classes (rows=expected ↓, cols=predicted →):\n",
      "['', 'document', 'document,sentiment', 'document,sentiment,visualisation', 'document,visualisation', 'sentiment', 'sentiment,visualisation', 'visualisation']\n",
      "[[7 0 0 0 0 1 0 0]\n",
      " [1 4 0 0 0 0 0 0]\n",
      " [0 0 1 0 0 0 0 0]\n",
      " [0 0 0 1 0 0 0 0]\n",
      " [0 0 0 0 1 0 0 0]\n",
      " [0 0 0 0 0 2 0 0]\n",
      " [0 0 0 0 0 0 1 0]\n",
      " [0 0 0 0 0 0 0 1]]\n"
     ]
    }
   ],
   "source": [
    "# Cell 5: Confusion Matrix over routing classes\n",
    "labels = sorted(set(y_true + y_pred))\n",
    "cm = confusion_matrix(y_true, y_pred, labels=labels)\n",
    "\n",
    "print(\"Routing classes (rows=expected ↓, cols=predicted →):\")\n",
    "print(labels)\n",
    "print(cm)\n"
   ]
  },
  {
   "cell_type": "code",
   "execution_count": null,
   "id": "7f8381a9",
   "metadata": {},
   "outputs": [
    {
     "name": "stdout",
     "output_type": "stream",
     "text": [
      "Checked 20 queries.\n",
      "❌ 2 mismatches found:\n",
      "\n",
      "7. Q: Is the sentiment on AAPL bullish or bearish today?\n",
      "   expected: []\n",
      "   got:      ['sentiment']\n",
      "\n",
      "17. Q: How are Apple's earning calls in 2023 and 2024?\n",
      "   expected: ['document']\n",
      "   got:      []\n",
      "\n"
     ]
    }
   ],
   "source": [
    "print(f\"Checked {len(TEST_QUERIES)} queries.\")\n",
    "if not mismatches:\n",
    "    print(\"✅ All `agents_needed` matched the expectations!\")\n",
    "else:\n",
    "    print(f\"❌ {len(mismatches)} mismatches found:\\n\")\n",
    "    for m in mismatches:\n",
    "        print(f\"{m['index']}. Q: {m['query']}\")\n",
    "        print(f\"   expected: {m['expected']}\")\n",
    "        print(f\"   got:      {m['got']}\\n\")\n"
   ]
  },
  {
   "cell_type": "code",
   "execution_count": 25,
   "id": "34cb3ad9",
   "metadata": {},
   "outputs": [
    {
     "data": {
      "image/png": "[encoded data removed]",
      "text/plain": [
       "<Figure size 800x600 with 2 Axes>"
      ]
     },
     "metadata": {},
     "output_type": "display_data"
    }
   ],
   "source": [
    "import matplotlib.pyplot as plt\n",
    "\n",
    "fig, ax = plt.subplots(figsize=(8, 6))\n",
    "im = ax.imshow(cm_df, cmap='Blues', interpolation='nearest')\n",
    "cbar = fig.colorbar(im, ax=ax, orientation='vertical')\n",
    "cbar.ax.set_ylabel('Count', rotation=-90, va='bottom', fontsize=10)\n",
    "\n",
    "# Tick labels\n",
    "ax.set_xticks(range(len(labels)))\n",
    "ax.set_xticklabels(labels, rotation=45, ha='right', fontsize=10)\n",
    "ax.set_yticks(range(len(labels)))\n",
    "ax.set_yticklabels(labels, fontsize=10)\n",
    "\n",
    "# Annotate each cell with its count (white on dark, black on light)\n",
    "thresh = cm_df.values.max() / 2\n",
    "for i in range(cm_df.shape[0]):\n",
    "    for j in range(cm_df.shape[1]):\n",
    "        color = 'white' if cm_df.iat[i, j] > thresh else 'black'\n",
    "        ax.text(j, i, cm_df.iat[i, j],\n",
    "                ha='center', va='center',\n",
    "                color=color, fontsize=12)\n",
    "\n",
    "# Axis labels and title\n",
    "ax.set_xlabel('Predicted', fontsize=12)\n",
    "ax.set_ylabel('Expected', fontsize=12)\n",
    "ax.set_title('Routing Confusion Matrix', fontsize=14, pad=20)\n",
    "\n",
    "plt.tight_layout()\n",
    "plt.show()\n"
   ]
  },
  {
   "cell_type": "markdown",
   "id": "d511d487",
   "metadata": {},
   "source": [
    "# Evaluate Visualisation"
   ]
  },
  {
   "cell_type": "code",
   "execution_count": 26,
   "id": "b3c8b8d9",
   "metadata": {},
   "outputs": [],
   "source": [
    "from langchain_openai import ChatOpenAI\n",
    "from langchain_core.prompts import ChatPromptTemplate\n",
    "from langchain_core.output_parsers import JsonOutputParser\n",
    "\n",
    "def extract_dates(query: str) -> dict:\n",
    "    \"\"\"\n",
    "    Uses an LLM to extract 'start_date' and 'end_date' from the query.\n",
    "    Returns {\"start_date\": \"YYYY-MM-DD\" or None, \"end_date\": \"YYYY-MM-DD\" or None}.\n",
    "    \"\"\"\n",
    "    llm = ChatOpenAI(temperature=0, model=\"gpt-4\")\n",
    "    prompt = ChatPromptTemplate.from_template(\"\"\"\n",
    "You are a date extraction assistant for stock visualization.\n",
    "Given the following query, extract the start date and end date in the format YYYY-MM-DD.\n",
    "Query: {query}\n",
    "Return a JSON object with keys \"start_date\" and \"end_date\".\n",
    "If explicit dates are not found, return null for each.\n",
    "    \"\"\")\n",
    "    chain = prompt | llm | JsonOutputParser()\n",
    "    return chain.invoke({\"query\": query})\n"
   ]
  },
  {
   "cell_type": "code",
   "execution_count": 27,
   "id": "35879b1d",
   "metadata": {},
   "outputs": [],
   "source": [
    "TEST_CASES = [\n",
    "    # Month‑range by name\n",
    "    {\"query\":   \"Show me AAPL from January to March 2024\",\n",
    "     \"exp_start\":\"2024-01-01\", \"exp_end\":\"2024-03-31\"},\n",
    "\n",
    "    # Single month\n",
    "    {\"query\":   \"Plot AAPL for February 2024\",\n",
    "     \"exp_start\":\"2024-02-01\", \"exp_end\":\"2024-02-29\"},\n",
    "\n",
    "    # Explicit day range\n",
    "    {\"query\":   \"Chart AAPL from March 15, 2024 to April 15, 2024\",\n",
    "     \"exp_start\":\"2024-03-15\", \"exp_end\":\"2024-04-15\"},\n",
    "\n",
    "    # Quarter keywords\n",
    "    {\"query\":   \"Display AAPL for Q1 2024\",\n",
    "     \"exp_start\":\"2024-01-01\", \"exp_end\":\"2024-03-31\"},\n",
    "\n",
    "    {\"query\":   \"Show me AAPL for Q2 2024\",\n",
    "     \"exp_start\":\"2024-04-01\", \"exp_end\":\"2024-06-30\"},\n",
    "\n",
    "    # Half‑year\n",
    "    {\"query\":   \"Plot AAPL for the first half of 2024\",\n",
    "     \"exp_start\":\"2024-01-01\", \"exp_end\":\"2024-06-30\"},\n",
    "\n",
    "    {\"query\":   \"Visualize AAPL from July to September 2024\",\n",
    "     \"exp_start\":\"2024-07-01\", \"exp_end\":\"2024-09-30\"},\n",
    "\n",
    "    {\"query\":   \"AAPL for H2 2024\",\n",
    "     \"exp_start\":\"2024-07-01\", \"exp_end\":\"2024-12-31\"},\n",
    "\n",
    "    # Month‑name range\n",
    "    {\"query\":   \"Chart from October through December 2024\",\n",
    "     \"exp_start\":\"2024-10-01\", \"exp_end\":\"2024-12-31\"},\n",
    "\n",
    "    # Mixed explicit\n",
    "    {\"query\":   \"Plot AAPL between May 10, 2024 and June 10, 2024\",\n",
    "     \"exp_start\":\"2024-05-10\", \"exp_end\":\"2024-06-10\"},\n",
    "\n",
    "    # Numeric date range\n",
    "    {\"query\":   \"Graph AAPL between 2024-08-15 and 2024-09-15\",\n",
    "     \"exp_start\":\"2024-08-15\", \"exp_end\":\"2024-09-15\"},\n",
    "\n",
    "    # Another quarter\n",
    "    {\"query\":   \"Plot AAPL for Q3 2024\",\n",
    "     \"exp_start\":\"2024-07-01\", \"exp_end\":\"2024-09-30\"},\n",
    "\n",
    "    {\"query\":   \"Display AAPL for the last quarter (Q4) of 2024\",\n",
    "     \"exp_start\":\"2024-10-01\", \"exp_end\":\"2024-12-31\"},\n",
    "\n",
    "    # Abbreviated month‑ranges\n",
    "    {\"query\":   \"Plot AAPL Jan-Feb 2024\",\n",
    "     \"exp_start\":\"2024-01-01\", \"exp_end\":\"2024-02-29\"},\n",
    "\n",
    "    {\"query\":   \"Chart for the period April–May 2024\",\n",
    "     \"exp_start\":\"2024-04-01\", \"exp_end\":\"2024-05-31\"},\n",
    "\n",
    "    # Explicit day‐only\n",
    "    {\"query\":   \"Show me AAPL from June 1 to June 30, 2024\",\n",
    "     \"exp_start\":\"2024-06-01\", \"exp_end\":\"2024-06-30\"},\n",
    "\n",
    "    # Wordy quarter\n",
    "    {\"query\":   \"Plot the stock for the second quarter of 2024\",\n",
    "     \"exp_start\":\"2024-04-01\", \"exp_end\":\"2024-06-30\"},\n",
    "\n",
    "    # Natural‑language first‑3‑months\n",
    "    {\"query\":   \"Visualize AAPL for the first 3 months of 2024\",\n",
    "     \"exp_start\":\"2024-01-01\", \"exp_end\":\"2024-03-31\"},\n",
    "\n",
    "    # Explicit half‑year with dates\n",
    "    {\"query\":   \"AAPL chart for the six months from January 1, 2024 to June 30, 2024\",\n",
    "     \"exp_start\":\"2024-01-01\", \"exp_end\":\"2024-06-30\"},\n",
    "\n",
    "    # Full‑year fallback case\n",
    "    {\"query\":   \"Show me AAPL in 2024\",\n",
    "     \"exp_start\":\"2024-01-01\", \"exp_end\":\"2024-12-31\"},\n",
    "]\n"
   ]
  },
  {
   "cell_type": "code",
   "execution_count": 28,
   "id": "406b6b86",
   "metadata": {},
   "outputs": [
    {
     "name": "stdout",
     "output_type": "stream",
     "text": [
      "Exact‐match accuracy: 20/20 = 100%\n",
      "\n"
     ]
    },
    {
     "data": {
      "text/html": [
       "<div>\n",
       "<style scoped>\n",
       "    .dataframe tbody tr th:only-of-type {\n",
       "        vertical-align: middle;\n",
       "    }\n",
       "\n",
       "    .dataframe tbody tr th {\n",
       "        vertical-align: top;\n",
       "    }\n",
       "\n",
       "    .dataframe thead th {\n",
       "        text-align: right;\n",
       "    }\n",
       "</style>\n",
       "<table border=\"1\" class=\"dataframe\">\n",
       "  <thead>\n",
       "    <tr style=\"text-align: right;\">\n",
       "      <th></th>\n",
       "      <th>query</th>\n",
       "      <th>expected</th>\n",
       "      <th>got</th>\n",
       "      <th>pass</th>\n",
       "    </tr>\n",
       "  </thead>\n",
       "  <tbody>\n",
       "    <tr>\n",
       "      <th>0</th>\n",
       "      <td>Show me AAPL from January to March 2024</td>\n",
       "      <td>2024-01-01 ↔ 2024-03-31</td>\n",
       "      <td>2024-01-01 ↔ 2024-03-31</td>\n",
       "      <td>✅</td>\n",
       "    </tr>\n",
       "    <tr>\n",
       "      <th>1</th>\n",
       "      <td>Plot AAPL for February 2024</td>\n",
       "      <td>2024-02-01 ↔ 2024-02-29</td>\n",
       "      <td>2024-02-01 ↔ 2024-02-29</td>\n",
       "      <td>✅</td>\n",
       "    </tr>\n",
       "    <tr>\n",
       "      <th>2</th>\n",
       "      <td>Chart AAPL from March 15, 2024 to April 15, 2024</td>\n",
       "      <td>2024-03-15 ↔ 2024-04-15</td>\n",
       "      <td>2024-03-15 ↔ 2024-04-15</td>\n",
       "      <td>✅</td>\n",
       "    </tr>\n",
       "    <tr>\n",
       "      <th>3</th>\n",
       "      <td>Display AAPL for Q1 2024</td>\n",
       "      <td>2024-01-01 ↔ 2024-03-31</td>\n",
       "      <td>2024-01-01 ↔ 2024-03-31</td>\n",
       "      <td>✅</td>\n",
       "    </tr>\n",
       "    <tr>\n",
       "      <th>4</th>\n",
       "      <td>Show me AAPL for Q2 2024</td>\n",
       "      <td>2024-04-01 ↔ 2024-06-30</td>\n",
       "      <td>2024-04-01 ↔ 2024-06-30</td>\n",
       "      <td>✅</td>\n",
       "    </tr>\n",
       "    <tr>\n",
       "      <th>5</th>\n",
       "      <td>Plot AAPL for the first half of 2024</td>\n",
       "      <td>2024-01-01 ↔ 2024-06-30</td>\n",
       "      <td>2024-01-01 ↔ 2024-06-30</td>\n",
       "      <td>✅</td>\n",
       "    </tr>\n",
       "    <tr>\n",
       "      <th>6</th>\n",
       "      <td>Visualize AAPL from July to September 2024</td>\n",
       "      <td>2024-07-01 ↔ 2024-09-30</td>\n",
       "      <td>2024-07-01 ↔ 2024-09-30</td>\n",
       "      <td>✅</td>\n",
       "    </tr>\n",
       "    <tr>\n",
       "      <th>7</th>\n",
       "      <td>AAPL for H2 2024</td>\n",
       "      <td>2024-07-01 ↔ 2024-12-31</td>\n",
       "      <td>2024-07-01 ↔ 2024-12-31</td>\n",
       "      <td>✅</td>\n",
       "    </tr>\n",
       "    <tr>\n",
       "      <th>8</th>\n",
       "      <td>Chart from October through December 2024</td>\n",
       "      <td>2024-10-01 ↔ 2024-12-31</td>\n",
       "      <td>2024-10-01 ↔ 2024-12-31</td>\n",
       "      <td>✅</td>\n",
       "    </tr>\n",
       "    <tr>\n",
       "      <th>9</th>\n",
       "      <td>Plot AAPL between May 10, 2024 and June 10, 2024</td>\n",
       "      <td>2024-05-10 ↔ 2024-06-10</td>\n",
       "      <td>2024-05-10 ↔ 2024-06-10</td>\n",
       "      <td>✅</td>\n",
       "    </tr>\n",
       "    <tr>\n",
       "      <th>10</th>\n",
       "      <td>Graph AAPL between 2024-08-15 and 2024-09-15</td>\n",
       "      <td>2024-08-15 ↔ 2024-09-15</td>\n",
       "      <td>2024-08-15 ↔ 2024-09-15</td>\n",
       "      <td>✅</td>\n",
       "    </tr>\n",
       "    <tr>\n",
       "      <th>11</th>\n",
       "      <td>Plot AAPL for Q3 2024</td>\n",
       "      <td>2024-07-01 ↔ 2024-09-30</td>\n",
       "      <td>2024-07-01 ↔ 2024-09-30</td>\n",
       "      <td>✅</td>\n",
       "    </tr>\n",
       "    <tr>\n",
       "      <th>12</th>\n",
       "      <td>Display AAPL for the last quarter (Q4) of 2024</td>\n",
       "      <td>2024-10-01 ↔ 2024-12-31</td>\n",
       "      <td>2024-10-01 ↔ 2024-12-31</td>\n",
       "      <td>✅</td>\n",
       "    </tr>\n",
       "    <tr>\n",
       "      <th>13</th>\n",
       "      <td>Plot AAPL Jan-Feb 2024</td>\n",
       "      <td>2024-01-01 ↔ 2024-02-29</td>\n",
       "      <td>2024-01-01 ↔ 2024-02-29</td>\n",
       "      <td>✅</td>\n",
       "    </tr>\n",
       "    <tr>\n",
       "      <th>14</th>\n",
       "      <td>Chart for the period April–May 2024</td>\n",
       "      <td>2024-04-01 ↔ 2024-05-31</td>\n",
       "      <td>2024-04-01 ↔ 2024-05-31</td>\n",
       "      <td>✅</td>\n",
       "    </tr>\n",
       "    <tr>\n",
       "      <th>15</th>\n",
       "      <td>Show me AAPL from June 1 to June 30, 2024</td>\n",
       "      <td>2024-06-01 ↔ 2024-06-30</td>\n",
       "      <td>2024-06-01 ↔ 2024-06-30</td>\n",
       "      <td>✅</td>\n",
       "    </tr>\n",
       "    <tr>\n",
       "      <th>16</th>\n",
       "      <td>Plot the stock for the second quarter of 2024</td>\n",
       "      <td>2024-04-01 ↔ 2024-06-30</td>\n",
       "      <td>2024-04-01 ↔ 2024-06-30</td>\n",
       "      <td>✅</td>\n",
       "    </tr>\n",
       "    <tr>\n",
       "      <th>17</th>\n",
       "      <td>Visualize AAPL for the first 3 months of 2024</td>\n",
       "      <td>2024-01-01 ↔ 2024-03-31</td>\n",
       "      <td>2024-01-01 ↔ 2024-03-31</td>\n",
       "      <td>✅</td>\n",
       "    </tr>\n",
       "    <tr>\n",
       "      <th>18</th>\n",
       "      <td>AAPL chart for the six months from January 1, ...</td>\n",
       "      <td>2024-01-01 ↔ 2024-06-30</td>\n",
       "      <td>2024-01-01 ↔ 2024-06-30</td>\n",
       "      <td>✅</td>\n",
       "    </tr>\n",
       "    <tr>\n",
       "      <th>19</th>\n",
       "      <td>Show me AAPL in 2024</td>\n",
       "      <td>2024-01-01 ↔ 2024-12-31</td>\n",
       "      <td>2024-01-01 ↔ 2024-12-31</td>\n",
       "      <td>✅</td>\n",
       "    </tr>\n",
       "  </tbody>\n",
       "</table>\n",
       "</div>"
      ],
      "text/plain": [
       "                                                query  \\\n",
       "0             Show me AAPL from January to March 2024   \n",
       "1                         Plot AAPL for February 2024   \n",
       "2    Chart AAPL from March 15, 2024 to April 15, 2024   \n",
       "3                            Display AAPL for Q1 2024   \n",
       "4                            Show me AAPL for Q2 2024   \n",
       "5                Plot AAPL for the first half of 2024   \n",
       "6          Visualize AAPL from July to September 2024   \n",
       "7                                    AAPL for H2 2024   \n",
       "8            Chart from October through December 2024   \n",
       "9    Plot AAPL between May 10, 2024 and June 10, 2024   \n",
       "10       Graph AAPL between 2024-08-15 and 2024-09-15   \n",
       "11                              Plot AAPL for Q3 2024   \n",
       "12     Display AAPL for the last quarter (Q4) of 2024   \n",
       "13                             Plot AAPL Jan-Feb 2024   \n",
       "14                Chart for the period April–May 2024   \n",
       "15          Show me AAPL from June 1 to June 30, 2024   \n",
       "16      Plot the stock for the second quarter of 2024   \n",
       "17      Visualize AAPL for the first 3 months of 2024   \n",
       "18  AAPL chart for the six months from January 1, ...   \n",
       "19                               Show me AAPL in 2024   \n",
       "\n",
       "                   expected                      got pass  \n",
       "0   2024-01-01 ↔ 2024-03-31  2024-01-01 ↔ 2024-03-31    ✅  \n",
       "1   2024-02-01 ↔ 2024-02-29  2024-02-01 ↔ 2024-02-29    ✅  \n",
       "2   2024-03-15 ↔ 2024-04-15  2024-03-15 ↔ 2024-04-15    ✅  \n",
       "3   2024-01-01 ↔ 2024-03-31  2024-01-01 ↔ 2024-03-31    ✅  \n",
       "4   2024-04-01 ↔ 2024-06-30  2024-04-01 ↔ 2024-06-30    ✅  \n",
       "5   2024-01-01 ↔ 2024-06-30  2024-01-01 ↔ 2024-06-30    ✅  \n",
       "6   2024-07-01 ↔ 2024-09-30  2024-07-01 ↔ 2024-09-30    ✅  \n",
       "7   2024-07-01 ↔ 2024-12-31  2024-07-01 ↔ 2024-12-31    ✅  \n",
       "8   2024-10-01 ↔ 2024-12-31  2024-10-01 ↔ 2024-12-31    ✅  \n",
       "9   2024-05-10 ↔ 2024-06-10  2024-05-10 ↔ 2024-06-10    ✅  \n",
       "10  2024-08-15 ↔ 2024-09-15  2024-08-15 ↔ 2024-09-15    ✅  \n",
       "11  2024-07-01 ↔ 2024-09-30  2024-07-01 ↔ 2024-09-30    ✅  \n",
       "12  2024-10-01 ↔ 2024-12-31  2024-10-01 ↔ 2024-12-31    ✅  \n",
       "13  2024-01-01 ↔ 2024-02-29  2024-01-01 ↔ 2024-02-29    ✅  \n",
       "14  2024-04-01 ↔ 2024-05-31  2024-04-01 ↔ 2024-05-31    ✅  \n",
       "15  2024-06-01 ↔ 2024-06-30  2024-06-01 ↔ 2024-06-30    ✅  \n",
       "16  2024-04-01 ↔ 2024-06-30  2024-04-01 ↔ 2024-06-30    ✅  \n",
       "17  2024-01-01 ↔ 2024-03-31  2024-01-01 ↔ 2024-03-31    ✅  \n",
       "18  2024-01-01 ↔ 2024-06-30  2024-01-01 ↔ 2024-06-30    ✅  \n",
       "19  2024-01-01 ↔ 2024-12-31  2024-01-01 ↔ 2024-12-31    ✅  "
      ]
     },
     "execution_count": 28,
     "metadata": {},
     "output_type": "execute_result"
    }
   ],
   "source": [
    "import pandas as pd\n",
    "\n",
    "results = []\n",
    "for tc in TEST_CASES:\n",
    "    out = extract_dates(tc[\"query\"])\n",
    "    s, e = out.get(\"start_date\"), out.get(\"end_date\")\n",
    "    passed = (s == tc[\"exp_start\"] and e == tc[\"exp_end\"])\n",
    "    results.append({\n",
    "        \"query\": tc[\"query\"],\n",
    "        \"expected\": f\"{tc['exp_start']} ↔ {tc['exp_end']}\",\n",
    "        \"got\":      f\"{s} ↔ {e}\",\n",
    "        \"pass\":    \"✅\" if passed else \"❌\"\n",
    "    })\n",
    "\n",
    "df = pd.DataFrame(results)\n",
    "# Print summary\n",
    "total = len(df)\n",
    "correct = (df[\"pass\"] == \"✅\").sum()\n",
    "print(f\"Exact‐match accuracy: {correct}/{total} = {correct/total:.0%}\\n\")\n",
    "df  # interactive display of each row\n"
   ]
  },
  {
   "cell_type": "code",
   "execution_count": 32,
   "id": "950727ae",
   "metadata": {},
   "outputs": [
    {
     "name": "stdout",
     "output_type": "stream",
     "text": [
      "Defaulting to user installation because normal site-packages is not writeable\n",
      "Collecting plotly\n",
      "  Downloading plotly-6.0.1-py3-none-any.whl (14.8 MB)\n",
      "\u001b[K     |████████████████████████████████| 14.8 MB 7.0 MB/s eta 0:00:01\n",
      "\u001b[?25hCollecting narwhals>=1.15.1\n",
      "  Downloading narwhals-1.35.0-py3-none-any.whl (325 kB)\n",
      "\u001b[K     |████████████████████████████████| 325 kB 6.4 MB/s eta 0:00:01\n",
      "\u001b[?25hRequirement already satisfied: packaging in /Users/yixuan/Library/Python/3.9/lib/python/site-packages (from plotly) (24.2)\n",
      "Installing collected packages: narwhals, plotly\n",
      "Successfully installed narwhals-1.35.0 plotly-6.0.1\n",
      "\u001b[33mWARNING: You are using pip version 21.2.4; however, version 25.0.1 is available.\n",
      "You should consider upgrading via the '/Library/Developer/CommandLineTools/usr/bin/python3 -m pip install --upgrade pip' command.\u001b[0m\n",
      "Note: you may need to restart the kernel to use updated packages.\n"
     ]
    }
   ],
   "source": [
    "%pip install plotly"
   ]
  },
  {
   "cell_type": "code",
   "execution_count": 33,
   "id": "0db75fa5",
   "metadata": {},
   "outputs": [
    {
     "data": {
      "application/vnd.plotly.v1+json": {
       "config": {
        "plotlyServerURL": "https://plot.ly"
       },
       "data": [
        {
         "cells": {
          "align": "left",
          "fill": {
           "color": [
            [
             "#d4edda",
             "#d4edda",
             "#d4edda",
             "#d4edda",
             "#d4edda",
             "#d4edda",
             "#d4edda",
             "#d4edda",
             "#d4edda",
             "#d4edda",
             "#d4edda",
             "#d4edda",
             "#d4edda",
             "#d4edda",
             "#d4edda",
             "#d4edda",
             "#d4edda",
             "#d4edda",
             "#d4edda",
             "#d4edda"
            ],
            [
             "#d4edda",
             "#d4edda",
             "#d4edda",
             "#d4edda",
             "#d4edda",
             "#d4edda",
             "#d4edda",
             "#d4edda",
             "#d4edda",
             "#d4edda",
             "#d4edda",
             "#d4edda",
             "#d4edda",
             "#d4edda",
             "#d4edda",
             "#d4edda",
             "#d4edda",
             "#d4edda",
             "#d4edda",
             "#d4edda"
            ],
            [
             "#d4edda",
             "#d4edda",
             "#d4edda",
             "#d4edda",
             "#d4edda",
             "#d4edda",
             "#d4edda",
             "#d4edda",
             "#d4edda",
             "#d4edda",
             "#d4edda",
             "#d4edda",
             "#d4edda",
             "#d4edda",
             "#d4edda",
             "#d4edda",
             "#d4edda",
             "#d4edda",
             "#d4edda",
             "#d4edda"
            ],
            [
             "#d4edda",
             "#d4edda",
             "#d4edda",
             "#d4edda",
             "#d4edda",
             "#d4edda",
             "#d4edda",
             "#d4edda",
             "#d4edda",
             "#d4edda",
             "#d4edda",
             "#d4edda",
             "#d4edda",
             "#d4edda",
             "#d4edda",
             "#d4edda",
             "#d4edda",
             "#d4edda",
             "#d4edda",
             "#d4edda"
            ]
           ]
          },
          "values": [
           [
            "Show me AAPL from January to March 2024",
            "Plot AAPL for February 2024",
            "Chart AAPL from March 15, 2024 to April 15, 2024",
            "Display AAPL for Q1 2024",
            "Show me AAPL for Q2 2024",
            "Plot AAPL for the first half of 2024",
            "Visualize AAPL from July to September 2024",
            "AAPL for H2 2024",
            "Chart from October through December 2024",
            "Plot AAPL between May 10, 2024 and June 10, 2024",
            "Graph AAPL between 2024-08-15 and 2024-09-15",
            "Plot AAPL for Q3 2024",
            "Display AAPL for the last quarter (Q4) of 2024",
            "Plot AAPL Jan-Feb 2024",
            "Chart for the period April–May 2024",
            "Show me AAPL from June 1 to June 30, 2024",
            "Plot the stock for the second quarter of 2024",
            "Visualize AAPL for the first 3 months of 2024",
            "AAPL chart for the six months from January 1, 2024 to June 30, 2024",
            "Show me AAPL in 2024"
           ],
           [
            "2024-01-01 ↔ 2024-03-31",
            "2024-02-01 ↔ 2024-02-29",
            "2024-03-15 ↔ 2024-04-15",
            "2024-01-01 ↔ 2024-03-31",
            "2024-04-01 ↔ 2024-06-30",
            "2024-01-01 ↔ 2024-06-30",
            "2024-07-01 ↔ 2024-09-30",
            "2024-07-01 ↔ 2024-12-31",
            "2024-10-01 ↔ 2024-12-31",
            "2024-05-10 ↔ 2024-06-10",
            "2024-08-15 ↔ 2024-09-15",
            "2024-07-01 ↔ 2024-09-30",
            "2024-10-01 ↔ 2024-12-31",
            "2024-01-01 ↔ 2024-02-29",
            "2024-04-01 ↔ 2024-05-31",
            "2024-06-01 ↔ 2024-06-30",
            "2024-04-01 ↔ 2024-06-30",
            "2024-01-01 ↔ 2024-03-31",
            "2024-01-01 ↔ 2024-06-30",
            "2024-01-01 ↔ 2024-12-31"
           ],
           [
            "2024-01-01 ↔ 2024-03-31",
            "2024-02-01 ↔ 2024-02-29",
            "2024-03-15 ↔ 2024-04-15",
            "2024-01-01 ↔ 2024-03-31",
            "2024-04-01 ↔ 2024-06-30",
            "2024-01-01 ↔ 2024-06-30",
            "2024-07-01 ↔ 2024-09-30",
            "2024-07-01 ↔ 2024-12-31",
            "2024-10-01 ↔ 2024-12-31",
            "2024-05-10 ↔ 2024-06-10",
            "2024-08-15 ↔ 2024-09-15",
            "2024-07-01 ↔ 2024-09-30",
            "2024-10-01 ↔ 2024-12-31",
            "2024-01-01 ↔ 2024-02-29",
            "2024-04-01 ↔ 2024-05-31",
            "2024-06-01 ↔ 2024-06-30",
            "2024-04-01 ↔ 2024-06-30",
            "2024-01-01 ↔ 2024-03-31",
            "2024-01-01 ↔ 2024-06-30",
            "2024-01-01 ↔ 2024-12-31"
           ],
           [
            "✅",
            "✅",
            "✅",
            "✅",
            "✅",
            "✅",
            "✅",
            "✅",
            "✅",
            "✅",
            "✅",
            "✅",
            "✅",
            "✅",
            "✅",
            "✅",
            "✅",
            "✅",
            "✅",
            "✅"
           ]
          ]
         },
         "header": {
          "align": "left",
          "fill": {
           "color": "lightgrey"
          },
          "values": [
           "query",
           "expected",
           "got",
           "pass"
          ]
         },
         "type": "table"
        }
       ],
       "layout": {
        "height": 600,
        "margin": {
         "b": 10,
         "l": 10,
         "r": 10,
         "t": 40
        },
        "template": {
         "data": {
          "bar": [
           {
            "error_x": {
             "color": "#2a3f5f"
            },
            "error_y": {
             "color": "#2a3f5f"
            },
            "marker": {
             "line": {
              "color": "#E5ECF6",
              "width": 0.5
             },
             "pattern": {
              "fillmode": "overlay",
              "size": 10,
              "solidity": 0.2
             }
            },
            "type": "bar"
           }
          ],
          "barpolar": [
           {
            "marker": {
             "line": {
              "color": "#E5ECF6",
              "width": 0.5
             },
             "pattern": {
              "fillmode": "overlay",
              "size": 10,
              "solidity": 0.2
             }
            },
            "type": "barpolar"
           }
          ],
          "carpet": [
           {
            "aaxis": {
             "endlinecolor": "#2a3f5f",
             "gridcolor": "white",
             "linecolor": "white",
             "minorgridcolor": "white",
             "startlinecolor": "#2a3f5f"
            },
            "baxis": {
             "endlinecolor": "#2a3f5f",
             "gridcolor": "white",
             "linecolor": "white",
             "minorgridcolor": "white",
             "startlinecolor": "#2a3f5f"
            },
            "type": "carpet"
           }
          ],
          "choropleth": [
           {
            "colorbar": {
             "outlinewidth": 0,
             "ticks": ""
            },
            "type": "choropleth"
           }
          ],
          "contour": [
           {
            "colorbar": {
             "outlinewidth": 0,
             "ticks": ""
            },
            "colorscale": [
             [
              0,
              "#0d0887"
             ],
             [
              0.1111111111111111,
              "#46039f"
             ],
             [
              0.2222222222222222,
              "#7201a8"
             ],
             [
              0.3333333333333333,
              "#9c179e"
             ],
             [
              0.4444444444444444,
              "#bd3786"
             ],
             [
              0.5555555555555556,
              "#d8576b"
             ],
             [
              0.6666666666666666,
              "#ed7953"
             ],
             [
              0.7777777777777778,
              "#fb9f3a"
             ],
             [
              0.8888888888888888,
              "#fdca26"
             ],
             [
              1,
              "#f0f921"
             ]
            ],
            "type": "contour"
           }
          ],
          "contourcarpet": [
           {
            "colorbar": {
             "outlinewidth": 0,
             "ticks": ""
            },
            "type": "contourcarpet"
           }
          ],
          "heatmap": [
           {
            "colorbar": {
             "outlinewidth": 0,
             "ticks": ""
            },
            "colorscale": [
             [
              0,
              "#0d0887"
             ],
             [
              0.1111111111111111,
              "#46039f"
             ],
             [
              0.2222222222222222,
              "#7201a8"
             ],
             [
              0.3333333333333333,
              "#9c179e"
             ],
             [
              0.4444444444444444,
              "#bd3786"
             ],
             [
              0.5555555555555556,
              "#d8576b"
             ],
             [
              0.6666666666666666,
              "#ed7953"
             ],
             [
              0.7777777777777778,
              "#fb9f3a"
             ],
             [
              0.8888888888888888,
              "#fdca26"
             ],
             [
              1,
              "#f0f921"
             ]
            ],
            "type": "heatmap"
           }
          ],
          "histogram": [
           {
            "marker": {
             "pattern": {
              "fillmode": "overlay",
              "size": 10,
              "solidity": 0.2
             }
            },
            "type": "histogram"
           }
          ],
          "histogram2d": [
           {
            "colorbar": {
             "outlinewidth": 0,
             "ticks": ""
            },
            "colorscale": [
             [
              0,
              "#0d0887"
             ],
             [
              0.1111111111111111,
              "#46039f"
             ],
             [
              0.2222222222222222,
              "#7201a8"
             ],
             [
              0.3333333333333333,
              "#9c179e"
             ],
             [
              0.4444444444444444,
              "#bd3786"
             ],
             [
              0.5555555555555556,
              "#d8576b"
             ],
             [
              0.6666666666666666,
              "#ed7953"
             ],
             [
              0.7777777777777778,
              "#fb9f3a"
             ],
             [
              0.8888888888888888,
              "#fdca26"
             ],
             [
              1,
              "#f0f921"
             ]
            ],
            "type": "histogram2d"
           }
          ],
          "histogram2dcontour": [
           {
            "colorbar": {
             "outlinewidth": 0,
             "ticks": ""
            },
            "colorscale": [
             [
              0,
              "#0d0887"
             ],
             [
              0.1111111111111111,
              "#46039f"
             ],
             [
              0.2222222222222222,
              "#7201a8"
             ],
             [
              0.3333333333333333,
              "#9c179e"
             ],
             [
              0.4444444444444444,
              "#bd3786"
             ],
             [
              0.5555555555555556,
              "#d8576b"
             ],
             [
              0.6666666666666666,
              "#ed7953"
             ],
             [
              0.7777777777777778,
              "#fb9f3a"
             ],
             [
              0.8888888888888888,
              "#fdca26"
             ],
             [
              1,
              "#f0f921"
             ]
            ],
            "type": "histogram2dcontour"
           }
          ],
          "mesh3d": [
           {
            "colorbar": {
             "outlinewidth": 0,
             "ticks": ""
            },
            "type": "mesh3d"
           }
          ],
          "parcoords": [
           {
            "line": {
             "colorbar": {
              "outlinewidth": 0,
              "ticks": ""
             }
            },
            "type": "parcoords"
           }
          ],
          "pie": [
           {
            "automargin": true,
            "type": "pie"
           }
          ],
          "scatter": [
           {
            "fillpattern": {
             "fillmode": "overlay",
             "size": 10,
             "solidity": 0.2
            },
            "type": "scatter"
           }
          ],
          "scatter3d": [
           {
            "line": {
             "colorbar": {
              "outlinewidth": 0,
              "ticks": ""
             }
            },
            "marker": {
             "colorbar": {
              "outlinewidth": 0,
              "ticks": ""
             }
            },
            "type": "scatter3d"
           }
          ],
          "scattercarpet": [
           {
            "marker": {
             "colorbar": {
              "outlinewidth": 0,
              "ticks": ""
             }
            },
            "type": "scattercarpet"
           }
          ],
          "scattergeo": [
           {
            "marker": {
             "colorbar": {
              "outlinewidth": 0,
              "ticks": ""
             }
            },
            "type": "scattergeo"
           }
          ],
          "scattergl": [
           {
            "marker": {
             "colorbar": {
              "outlinewidth": 0,
              "ticks": ""
             }
            },
            "type": "scattergl"
           }
          ],
          "scattermap": [
           {
            "marker": {
             "colorbar": {
              "outlinewidth": 0,
              "ticks": ""
             }
            },
            "type": "scattermap"
           }
          ],
          "scattermapbox": [
           {
            "marker": {
             "colorbar": {
              "outlinewidth": 0,
              "ticks": ""
             }
            },
            "type": "scattermapbox"
           }
          ],
          "scatterpolar": [
           {
            "marker": {
             "colorbar": {
              "outlinewidth": 0,
              "ticks": ""
             }
            },
            "type": "scatterpolar"
           }
          ],
          "scatterpolargl": [
           {
            "marker": {
             "colorbar": {
              "outlinewidth": 0,
              "ticks": ""
             }
            },
            "type": "scatterpolargl"
           }
          ],
          "scatterternary": [
           {
            "marker": {
             "colorbar": {
              "outlinewidth": 0,
              "ticks": ""
             }
            },
            "type": "scatterternary"
           }
          ],
          "surface": [
           {
            "colorbar": {
             "outlinewidth": 0,
             "ticks": ""
            },
            "colorscale": [
             [
              0,
              "#0d0887"
             ],
             [
              0.1111111111111111,
              "#46039f"
             ],
             [
              0.2222222222222222,
              "#7201a8"
             ],
             [
              0.3333333333333333,
              "#9c179e"
             ],
             [
              0.4444444444444444,
              "#bd3786"
             ],
             [
              0.5555555555555556,
              "#d8576b"
             ],
             [
              0.6666666666666666,
              "#ed7953"
             ],
             [
              0.7777777777777778,
              "#fb9f3a"
             ],
             [
              0.8888888888888888,
              "#fdca26"
             ],
             [
              1,
              "#f0f921"
             ]
            ],
            "type": "surface"
           }
          ],
          "table": [
           {
            "cells": {
             "fill": {
              "color": "#EBF0F8"
             },
             "line": {
              "color": "white"
             }
            },
            "header": {
             "fill": {
              "color": "#C8D4E3"
             },
             "line": {
              "color": "white"
             }
            },
            "type": "table"
           }
          ]
         },
         "layout": {
          "annotationdefaults": {
           "arrowcolor": "#2a3f5f",
           "arrowhead": 0,
           "arrowwidth": 1
          },
          "autotypenumbers": "strict",
          "coloraxis": {
           "colorbar": {
            "outlinewidth": 0,
            "ticks": ""
           }
          },
          "colorscale": {
           "diverging": [
            [
             0,
             "#8e0152"
            ],
            [
             0.1,
             "#c51b7d"
            ],
            [
             0.2,
             "#de77ae"
            ],
            [
             0.3,
             "#f1b6da"
            ],
            [
             0.4,
             "#fde0ef"
            ],
            [
             0.5,
             "#f7f7f7"
            ],
            [
             0.6,
             "#e6f5d0"
            ],
            [
             0.7,
             "#b8e186"
            ],
            [
             0.8,
             "#7fbc41"
            ],
            [
             0.9,
             "#4d9221"
            ],
            [
             1,
             "#276419"
            ]
           ],
           "sequential": [
            [
             0,
             "#0d0887"
            ],
            [
             0.1111111111111111,
             "#46039f"
            ],
            [
             0.2222222222222222,
             "#7201a8"
            ],
            [
             0.3333333333333333,
             "#9c179e"
            ],
            [
             0.4444444444444444,
             "#bd3786"
            ],
            [
             0.5555555555555556,
             "#d8576b"
            ],
            [
             0.6666666666666666,
             "#ed7953"
            ],
            [
             0.7777777777777778,
             "#fb9f3a"
            ],
            [
             0.8888888888888888,
             "#fdca26"
            ],
            [
             1,
             "#f0f921"
            ]
           ],
           "sequentialminus": [
            [
             0,
             "#0d0887"
            ],
            [
             0.1111111111111111,
             "#46039f"
            ],
            [
             0.2222222222222222,
             "#7201a8"
            ],
            [
             0.3333333333333333,
             "#9c179e"
            ],
            [
             0.4444444444444444,
             "#bd3786"
            ],
            [
             0.5555555555555556,
             "#d8576b"
            ],
            [
             0.6666666666666666,
             "#ed7953"
            ],
            [
             0.7777777777777778,
             "#fb9f3a"
            ],
            [
             0.8888888888888888,
             "#fdca26"
            ],
            [
             1,
             "#f0f921"
            ]
           ]
          },
          "colorway": [
           "#636efa",
           "#EF553B",
           "#00cc96",
           "#ab63fa",
           "#FFA15A",
           "#19d3f3",
           "#FF6692",
           "#B6E880",
           "#FF97FF",
           "#FECB52"
          ],
          "font": {
           "color": "#2a3f5f"
          },
          "geo": {
           "bgcolor": "white",
           "lakecolor": "white",
           "landcolor": "#E5ECF6",
           "showlakes": true,
           "showland": true,
           "subunitcolor": "white"
          },
          "hoverlabel": {
           "align": "left"
          },
          "hovermode": "closest",
          "mapbox": {
           "style": "light"
          },
          "paper_bgcolor": "white",
          "plot_bgcolor": "#E5ECF6",
          "polar": {
           "angularaxis": {
            "gridcolor": "white",
            "linecolor": "white",
            "ticks": ""
           },
           "bgcolor": "#E5ECF6",
           "radialaxis": {
            "gridcolor": "white",
            "linecolor": "white",
            "ticks": ""
           }
          },
          "scene": {
           "xaxis": {
            "backgroundcolor": "#E5ECF6",
            "gridcolor": "white",
            "gridwidth": 2,
            "linecolor": "white",
            "showbackground": true,
            "ticks": "",
            "zerolinecolor": "white"
           },
           "yaxis": {
            "backgroundcolor": "#E5ECF6",
            "gridcolor": "white",
            "gridwidth": 2,
            "linecolor": "white",
            "showbackground": true,
            "ticks": "",
            "zerolinecolor": "white"
           },
           "zaxis": {
            "backgroundcolor": "#E5ECF6",
            "gridcolor": "white",
            "gridwidth": 2,
            "linecolor": "white",
            "showbackground": true,
            "ticks": "",
            "zerolinecolor": "white"
           }
          },
          "shapedefaults": {
           "line": {
            "color": "#2a3f5f"
           }
          },
          "ternary": {
           "aaxis": {
            "gridcolor": "white",
            "linecolor": "white",
            "ticks": ""
           },
           "baxis": {
            "gridcolor": "white",
            "linecolor": "white",
            "ticks": ""
           },
           "bgcolor": "#E5ECF6",
           "caxis": {
            "gridcolor": "white",
            "linecolor": "white",
            "ticks": ""
           }
          },
          "title": {
           "x": 0.05
          },
          "xaxis": {
           "automargin": true,
           "gridcolor": "white",
           "linecolor": "white",
           "ticks": "",
           "title": {
            "standoff": 15
           },
           "zerolinecolor": "white",
           "zerolinewidth": 2
          },
          "yaxis": {
           "automargin": true,
           "gridcolor": "white",
           "linecolor": "white",
           "ticks": "",
           "title": {
            "standoff": 15
           },
           "zerolinecolor": "white",
           "zerolinewidth": 2
          }
         }
        },
        "title": {
         "text": "📅 Date‑Extraction Test Results"
        },
        "width": 1000
       }
      }
     },
     "metadata": {},
     "output_type": "display_data"
    }
   ],
   "source": [
    "import plotly.graph_objects as go\n",
    "\n",
    "fig = go.Figure(data=[\n",
    "    go.Table(\n",
    "        header=dict(\n",
    "            values=list(df.columns),\n",
    "            fill_color='lightgrey',\n",
    "            align='left'\n",
    "        ),\n",
    "        cells=dict(\n",
    "            values=[df[col] for col in df.columns],\n",
    "            # Color the 'pass' column cells green/red for ✅/❌\n",
    "            fill_color=[\n",
    "                ['#d4edda' if v=='✅' else '#f8d7da' for v in df['pass']]\n",
    "            ] * len(df.columns),\n",
    "            align='left'\n",
    "        )\n",
    "    )\n",
    "])\n",
    "fig.update_layout(\n",
    "    width=1000,\n",
    "    height=600,\n",
    "    margin=dict(l=10, r=10, t=40, b=10),\n",
    "    title_text=\"📅 Date‑Extraction Test Results\"\n",
    ")\n",
    "fig.show()\n"
   ]
  }
 ],
 "metadata": {
  "kernelspec": {
   "display_name": "Python 3",
   "language": "python",
   "name": "python3"
  },
  "language_info": {
   "codemirror_mode": {
    "name": "ipython",
    "version": 3
   },
   "file_extension": ".py",
   "mimetype": "text/x-python",
   "name": "python",
   "nbconvert_exporter": "python",
   "pygments_lexer": "ipython3",
   "version": "3.9.6"
  }
 },
 "nbformat": 4,
 "nbformat_minor": 5
}
